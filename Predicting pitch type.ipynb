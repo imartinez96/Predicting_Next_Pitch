{
 "cells": [
  {
   "cell_type": "code",
   "execution_count": 1,
   "metadata": {
    "id": "ezN62FsSI-lR"
   },
   "outputs": [],
   "source": [
    "# import needed packages\n",
    "import pandas as pd\n",
    "import numpy as np\n",
    "import matplotlib.pyplot as plt\n",
    "import seaborn as sns\n",
    "\n",
    "from sklearn.model_selection import train_test_split\n",
    "from sklearn.linear_model import LogisticRegression\n",
    "from sklearn.ensemble import RandomForestClassifier\n",
    "from sklearn.model_selection import GridSearchCV\n",
    "from sklearn.linear_model import SGDClassifier\n",
    "from sklearn.preprocessing import MinMaxScaler\n",
    "from sklearn.ensemble import GradientBoostingClassifier\n",
    "\n",
    "\n",
    "import warnings\n",
    "warnings.filterwarnings(\"ignore\")\n",
    "\n",
    "%matplotlib inline"
   ]
  },
  {
   "cell_type": "markdown",
   "metadata": {
    "id": "mGUNCzYPI-lV"
   },
   "source": [
    "# DATA WRANGLING"
   ]
  },
  {
   "cell_type": "code",
   "execution_count": 2,
   "metadata": {
    "colab": {
     "base_uri": "https://localhost:8080/",
     "height": 355
    },
    "id": "jvFwxAuuI-lW",
    "outputId": "bf816ee8-09cd-4a01-c542-acfa49914f59"
   },
   "outputs": [
    {
     "data": {
      "text/html": [
       "<div>\n",
       "<style scoped>\n",
       "    .dataframe tbody tr th:only-of-type {\n",
       "        vertical-align: middle;\n",
       "    }\n",
       "\n",
       "    .dataframe tbody tr th {\n",
       "        vertical-align: top;\n",
       "    }\n",
       "\n",
       "    .dataframe thead th {\n",
       "        text-align: right;\n",
       "    }\n",
       "</style>\n",
       "<table border=\"1\" class=\"dataframe\">\n",
       "  <thead>\n",
       "    <tr style=\"text-align: right;\">\n",
       "      <th></th>\n",
       "      <th>px</th>\n",
       "      <th>pz</th>\n",
       "      <th>start_speed</th>\n",
       "      <th>end_speed</th>\n",
       "      <th>spin_rate</th>\n",
       "      <th>spin_dir</th>\n",
       "      <th>break_angle</th>\n",
       "      <th>break_length</th>\n",
       "      <th>break_y</th>\n",
       "      <th>ax</th>\n",
       "      <th>...</th>\n",
       "      <th>event_num</th>\n",
       "      <th>b_score</th>\n",
       "      <th>ab_id</th>\n",
       "      <th>b_count</th>\n",
       "      <th>s_count</th>\n",
       "      <th>outs</th>\n",
       "      <th>pitch_num</th>\n",
       "      <th>on_1b</th>\n",
       "      <th>on_2b</th>\n",
       "      <th>on_3b</th>\n",
       "    </tr>\n",
       "  </thead>\n",
       "  <tbody>\n",
       "    <tr>\n",
       "      <th>0</th>\n",
       "      <td>0.416</td>\n",
       "      <td>2.963</td>\n",
       "      <td>92.9</td>\n",
       "      <td>84.1</td>\n",
       "      <td>2305.052</td>\n",
       "      <td>159.235</td>\n",
       "      <td>-25.0</td>\n",
       "      <td>3.2</td>\n",
       "      <td>23.7</td>\n",
       "      <td>7.665</td>\n",
       "      <td>...</td>\n",
       "      <td>3</td>\n",
       "      <td>0.0</td>\n",
       "      <td>2.015000e+09</td>\n",
       "      <td>0.0</td>\n",
       "      <td>0.0</td>\n",
       "      <td>0.0</td>\n",
       "      <td>1.0</td>\n",
       "      <td>0.0</td>\n",
       "      <td>0.0</td>\n",
       "      <td>0.0</td>\n",
       "    </tr>\n",
       "    <tr>\n",
       "      <th>1</th>\n",
       "      <td>-0.191</td>\n",
       "      <td>2.347</td>\n",
       "      <td>92.8</td>\n",
       "      <td>84.1</td>\n",
       "      <td>2689.935</td>\n",
       "      <td>151.402</td>\n",
       "      <td>-40.7</td>\n",
       "      <td>3.4</td>\n",
       "      <td>23.7</td>\n",
       "      <td>12.043</td>\n",
       "      <td>...</td>\n",
       "      <td>4</td>\n",
       "      <td>0.0</td>\n",
       "      <td>2.015000e+09</td>\n",
       "      <td>0.0</td>\n",
       "      <td>1.0</td>\n",
       "      <td>0.0</td>\n",
       "      <td>2.0</td>\n",
       "      <td>0.0</td>\n",
       "      <td>0.0</td>\n",
       "      <td>0.0</td>\n",
       "    </tr>\n",
       "    <tr>\n",
       "      <th>2</th>\n",
       "      <td>-0.518</td>\n",
       "      <td>3.284</td>\n",
       "      <td>94.1</td>\n",
       "      <td>85.2</td>\n",
       "      <td>2647.972</td>\n",
       "      <td>145.125</td>\n",
       "      <td>-43.7</td>\n",
       "      <td>3.7</td>\n",
       "      <td>23.7</td>\n",
       "      <td>14.368</td>\n",
       "      <td>...</td>\n",
       "      <td>5</td>\n",
       "      <td>0.0</td>\n",
       "      <td>2.015000e+09</td>\n",
       "      <td>0.0</td>\n",
       "      <td>2.0</td>\n",
       "      <td>0.0</td>\n",
       "      <td>3.0</td>\n",
       "      <td>0.0</td>\n",
       "      <td>0.0</td>\n",
       "      <td>0.0</td>\n",
       "    </tr>\n",
       "    <tr>\n",
       "      <th>3</th>\n",
       "      <td>-0.641</td>\n",
       "      <td>1.221</td>\n",
       "      <td>91.0</td>\n",
       "      <td>84.0</td>\n",
       "      <td>1289.590</td>\n",
       "      <td>169.751</td>\n",
       "      <td>-1.3</td>\n",
       "      <td>5.0</td>\n",
       "      <td>23.8</td>\n",
       "      <td>2.104</td>\n",
       "      <td>...</td>\n",
       "      <td>6</td>\n",
       "      <td>0.0</td>\n",
       "      <td>2.015000e+09</td>\n",
       "      <td>0.0</td>\n",
       "      <td>2.0</td>\n",
       "      <td>0.0</td>\n",
       "      <td>4.0</td>\n",
       "      <td>0.0</td>\n",
       "      <td>0.0</td>\n",
       "      <td>0.0</td>\n",
       "    </tr>\n",
       "    <tr>\n",
       "      <th>4</th>\n",
       "      <td>-1.821</td>\n",
       "      <td>2.083</td>\n",
       "      <td>75.4</td>\n",
       "      <td>69.6</td>\n",
       "      <td>1374.569</td>\n",
       "      <td>280.671</td>\n",
       "      <td>18.4</td>\n",
       "      <td>12.0</td>\n",
       "      <td>23.8</td>\n",
       "      <td>-10.280</td>\n",
       "      <td>...</td>\n",
       "      <td>7</td>\n",
       "      <td>0.0</td>\n",
       "      <td>2.015000e+09</td>\n",
       "      <td>1.0</td>\n",
       "      <td>2.0</td>\n",
       "      <td>0.0</td>\n",
       "      <td>5.0</td>\n",
       "      <td>0.0</td>\n",
       "      <td>0.0</td>\n",
       "      <td>0.0</td>\n",
       "    </tr>\n",
       "    <tr>\n",
       "      <th>5</th>\n",
       "      <td>0.627</td>\n",
       "      <td>2.397</td>\n",
       "      <td>92.9</td>\n",
       "      <td>84.8</td>\n",
       "      <td>2743.856</td>\n",
       "      <td>148.110</td>\n",
       "      <td>-45.7</td>\n",
       "      <td>3.7</td>\n",
       "      <td>23.7</td>\n",
       "      <td>13.590</td>\n",
       "      <td>...</td>\n",
       "      <td>8</td>\n",
       "      <td>0.0</td>\n",
       "      <td>2.015000e+09</td>\n",
       "      <td>2.0</td>\n",
       "      <td>2.0</td>\n",
       "      <td>0.0</td>\n",
       "      <td>6.0</td>\n",
       "      <td>0.0</td>\n",
       "      <td>0.0</td>\n",
       "      <td>0.0</td>\n",
       "    </tr>\n",
       "    <tr>\n",
       "      <th>6</th>\n",
       "      <td>-1.088</td>\n",
       "      <td>1.610</td>\n",
       "      <td>93.3</td>\n",
       "      <td>85.3</td>\n",
       "      <td>2848.535</td>\n",
       "      <td>147.044</td>\n",
       "      <td>-46.3</td>\n",
       "      <td>3.6</td>\n",
       "      <td>23.7</td>\n",
       "      <td>14.549</td>\n",
       "      <td>...</td>\n",
       "      <td>12</td>\n",
       "      <td>0.0</td>\n",
       "      <td>2.015000e+09</td>\n",
       "      <td>0.0</td>\n",
       "      <td>0.0</td>\n",
       "      <td>1.0</td>\n",
       "      <td>1.0</td>\n",
       "      <td>0.0</td>\n",
       "      <td>0.0</td>\n",
       "      <td>0.0</td>\n",
       "    </tr>\n",
       "    <tr>\n",
       "      <th>7</th>\n",
       "      <td>-0.257</td>\n",
       "      <td>2.047</td>\n",
       "      <td>89.3</td>\n",
       "      <td>82.4</td>\n",
       "      <td>1433.743</td>\n",
       "      <td>185.948</td>\n",
       "      <td>7.3</td>\n",
       "      <td>4.8</td>\n",
       "      <td>23.8</td>\n",
       "      <td>-1.339</td>\n",
       "      <td>...</td>\n",
       "      <td>13</td>\n",
       "      <td>0.0</td>\n",
       "      <td>2.015000e+09</td>\n",
       "      <td>1.0</td>\n",
       "      <td>0.0</td>\n",
       "      <td>1.0</td>\n",
       "      <td>2.0</td>\n",
       "      <td>0.0</td>\n",
       "      <td>0.0</td>\n",
       "      <td>0.0</td>\n",
       "    </tr>\n",
       "    <tr>\n",
       "      <th>8</th>\n",
       "      <td>1.470</td>\n",
       "      <td>2.350</td>\n",
       "      <td>92.1</td>\n",
       "      <td>85.0</td>\n",
       "      <td>2666.090</td>\n",
       "      <td>146.146</td>\n",
       "      <td>-45.0</td>\n",
       "      <td>4.0</td>\n",
       "      <td>23.8</td>\n",
       "      <td>13.808</td>\n",
       "      <td>...</td>\n",
       "      <td>17</td>\n",
       "      <td>0.0</td>\n",
       "      <td>2.015000e+09</td>\n",
       "      <td>0.0</td>\n",
       "      <td>0.0</td>\n",
       "      <td>1.0</td>\n",
       "      <td>1.0</td>\n",
       "      <td>0.0</td>\n",
       "      <td>1.0</td>\n",
       "      <td>0.0</td>\n",
       "    </tr>\n",
       "    <tr>\n",
       "      <th>9</th>\n",
       "      <td>-1.337</td>\n",
       "      <td>1.898</td>\n",
       "      <td>89.3</td>\n",
       "      <td>82.0</td>\n",
       "      <td>1384.143</td>\n",
       "      <td>174.388</td>\n",
       "      <td>2.0</td>\n",
       "      <td>4.9</td>\n",
       "      <td>23.8</td>\n",
       "      <td>1.218</td>\n",
       "      <td>...</td>\n",
       "      <td>18</td>\n",
       "      <td>0.0</td>\n",
       "      <td>2.015000e+09</td>\n",
       "      <td>1.0</td>\n",
       "      <td>0.0</td>\n",
       "      <td>1.0</td>\n",
       "      <td>2.0</td>\n",
       "      <td>0.0</td>\n",
       "      <td>1.0</td>\n",
       "      <td>0.0</td>\n",
       "    </tr>\n",
       "  </tbody>\n",
       "</table>\n",
       "<p>10 rows × 40 columns</p>\n",
       "</div>"
      ],
      "text/plain": [
       "      px     pz  start_speed  end_speed  spin_rate  spin_dir  break_angle  \\\n",
       "0  0.416  2.963         92.9       84.1   2305.052   159.235        -25.0   \n",
       "1 -0.191  2.347         92.8       84.1   2689.935   151.402        -40.7   \n",
       "2 -0.518  3.284         94.1       85.2   2647.972   145.125        -43.7   \n",
       "3 -0.641  1.221         91.0       84.0   1289.590   169.751         -1.3   \n",
       "4 -1.821  2.083         75.4       69.6   1374.569   280.671         18.4   \n",
       "5  0.627  2.397         92.9       84.8   2743.856   148.110        -45.7   \n",
       "6 -1.088  1.610         93.3       85.3   2848.535   147.044        -46.3   \n",
       "7 -0.257  2.047         89.3       82.4   1433.743   185.948          7.3   \n",
       "8  1.470  2.350         92.1       85.0   2666.090   146.146        -45.0   \n",
       "9 -1.337  1.898         89.3       82.0   1384.143   174.388          2.0   \n",
       "\n",
       "   break_length  break_y      ax  ...  event_num  b_score         ab_id  \\\n",
       "0           3.2     23.7   7.665  ...          3      0.0  2.015000e+09   \n",
       "1           3.4     23.7  12.043  ...          4      0.0  2.015000e+09   \n",
       "2           3.7     23.7  14.368  ...          5      0.0  2.015000e+09   \n",
       "3           5.0     23.8   2.104  ...          6      0.0  2.015000e+09   \n",
       "4          12.0     23.8 -10.280  ...          7      0.0  2.015000e+09   \n",
       "5           3.7     23.7  13.590  ...          8      0.0  2.015000e+09   \n",
       "6           3.6     23.7  14.549  ...         12      0.0  2.015000e+09   \n",
       "7           4.8     23.8  -1.339  ...         13      0.0  2.015000e+09   \n",
       "8           4.0     23.8  13.808  ...         17      0.0  2.015000e+09   \n",
       "9           4.9     23.8   1.218  ...         18      0.0  2.015000e+09   \n",
       "\n",
       "   b_count  s_count  outs  pitch_num  on_1b  on_2b  on_3b  \n",
       "0      0.0      0.0   0.0        1.0    0.0    0.0    0.0  \n",
       "1      0.0      1.0   0.0        2.0    0.0    0.0    0.0  \n",
       "2      0.0      2.0   0.0        3.0    0.0    0.0    0.0  \n",
       "3      0.0      2.0   0.0        4.0    0.0    0.0    0.0  \n",
       "4      1.0      2.0   0.0        5.0    0.0    0.0    0.0  \n",
       "5      2.0      2.0   0.0        6.0    0.0    0.0    0.0  \n",
       "6      0.0      0.0   1.0        1.0    0.0    0.0    0.0  \n",
       "7      1.0      0.0   1.0        2.0    0.0    0.0    0.0  \n",
       "8      0.0      0.0   1.0        1.0    0.0    1.0    0.0  \n",
       "9      1.0      0.0   1.0        2.0    0.0    1.0    0.0  \n",
       "\n",
       "[10 rows x 40 columns]"
      ]
     },
     "execution_count": 2,
     "metadata": {},
     "output_type": "execute_result"
    }
   ],
   "source": [
    "pitches = pd.read_csv('pitches.csv')\n",
    "\n",
    "pitches.head(10)"
   ]
  },
  {
   "cell_type": "code",
   "execution_count": 3,
   "metadata": {
    "colab": {
     "base_uri": "https://localhost:8080/"
    },
    "id": "LtJCChm9I-lX",
    "outputId": "e21cfc36-da7d-4f55-b56b-f41a3e1a1426"
   },
   "outputs": [
    {
     "data": {
      "text/plain": [
       "(2867154, 40)"
      ]
     },
     "execution_count": 3,
     "metadata": {},
     "output_type": "execute_result"
    }
   ],
   "source": [
    "pitches.shape"
   ]
  },
  {
   "cell_type": "code",
   "execution_count": 4,
   "metadata": {
    "colab": {
     "base_uri": "https://localhost:8080/",
     "height": 335
    },
    "id": "2XoSARz4I-lX",
    "outputId": "af45f57c-2d9f-4656-bd39-1760c9a09f81"
   },
   "outputs": [
    {
     "data": {
      "text/html": [
       "<div>\n",
       "<style scoped>\n",
       "    .dataframe tbody tr th:only-of-type {\n",
       "        vertical-align: middle;\n",
       "    }\n",
       "\n",
       "    .dataframe tbody tr th {\n",
       "        vertical-align: top;\n",
       "    }\n",
       "\n",
       "    .dataframe thead th {\n",
       "        text-align: right;\n",
       "    }\n",
       "</style>\n",
       "<table border=\"1\" class=\"dataframe\">\n",
       "  <thead>\n",
       "    <tr style=\"text-align: right;\">\n",
       "      <th></th>\n",
       "      <th>ab_id</th>\n",
       "      <th>batter_id</th>\n",
       "      <th>event</th>\n",
       "      <th>g_id</th>\n",
       "      <th>inning</th>\n",
       "      <th>o</th>\n",
       "      <th>p_score</th>\n",
       "      <th>p_throws</th>\n",
       "      <th>pitcher_id</th>\n",
       "      <th>stand</th>\n",
       "      <th>top</th>\n",
       "    </tr>\n",
       "  </thead>\n",
       "  <tbody>\n",
       "    <tr>\n",
       "      <th>0</th>\n",
       "      <td>2015000001</td>\n",
       "      <td>572761</td>\n",
       "      <td>Groundout</td>\n",
       "      <td>201500001</td>\n",
       "      <td>1</td>\n",
       "      <td>1</td>\n",
       "      <td>0</td>\n",
       "      <td>L</td>\n",
       "      <td>452657</td>\n",
       "      <td>L</td>\n",
       "      <td>True</td>\n",
       "    </tr>\n",
       "    <tr>\n",
       "      <th>1</th>\n",
       "      <td>2015000002</td>\n",
       "      <td>518792</td>\n",
       "      <td>Double</td>\n",
       "      <td>201500001</td>\n",
       "      <td>1</td>\n",
       "      <td>1</td>\n",
       "      <td>0</td>\n",
       "      <td>L</td>\n",
       "      <td>452657</td>\n",
       "      <td>L</td>\n",
       "      <td>True</td>\n",
       "    </tr>\n",
       "    <tr>\n",
       "      <th>2</th>\n",
       "      <td>2015000003</td>\n",
       "      <td>407812</td>\n",
       "      <td>Single</td>\n",
       "      <td>201500001</td>\n",
       "      <td>1</td>\n",
       "      <td>1</td>\n",
       "      <td>0</td>\n",
       "      <td>L</td>\n",
       "      <td>452657</td>\n",
       "      <td>R</td>\n",
       "      <td>True</td>\n",
       "    </tr>\n",
       "    <tr>\n",
       "      <th>3</th>\n",
       "      <td>2015000004</td>\n",
       "      <td>425509</td>\n",
       "      <td>Strikeout</td>\n",
       "      <td>201500001</td>\n",
       "      <td>1</td>\n",
       "      <td>2</td>\n",
       "      <td>0</td>\n",
       "      <td>L</td>\n",
       "      <td>452657</td>\n",
       "      <td>R</td>\n",
       "      <td>True</td>\n",
       "    </tr>\n",
       "    <tr>\n",
       "      <th>4</th>\n",
       "      <td>2015000005</td>\n",
       "      <td>571431</td>\n",
       "      <td>Strikeout</td>\n",
       "      <td>201500001</td>\n",
       "      <td>1</td>\n",
       "      <td>3</td>\n",
       "      <td>0</td>\n",
       "      <td>L</td>\n",
       "      <td>452657</td>\n",
       "      <td>L</td>\n",
       "      <td>True</td>\n",
       "    </tr>\n",
       "    <tr>\n",
       "      <th>5</th>\n",
       "      <td>2015000006</td>\n",
       "      <td>451594</td>\n",
       "      <td>Double</td>\n",
       "      <td>201500001</td>\n",
       "      <td>1</td>\n",
       "      <td>0</td>\n",
       "      <td>1</td>\n",
       "      <td>R</td>\n",
       "      <td>425794</td>\n",
       "      <td>L</td>\n",
       "      <td>False</td>\n",
       "    </tr>\n",
       "    <tr>\n",
       "      <th>6</th>\n",
       "      <td>2015000007</td>\n",
       "      <td>624585</td>\n",
       "      <td>Groundout</td>\n",
       "      <td>201500001</td>\n",
       "      <td>1</td>\n",
       "      <td>1</td>\n",
       "      <td>1</td>\n",
       "      <td>R</td>\n",
       "      <td>425794</td>\n",
       "      <td>R</td>\n",
       "      <td>False</td>\n",
       "    </tr>\n",
       "    <tr>\n",
       "      <th>7</th>\n",
       "      <td>2015000008</td>\n",
       "      <td>519203</td>\n",
       "      <td>Strikeout</td>\n",
       "      <td>201500001</td>\n",
       "      <td>1</td>\n",
       "      <td>2</td>\n",
       "      <td>1</td>\n",
       "      <td>R</td>\n",
       "      <td>425794</td>\n",
       "      <td>L</td>\n",
       "      <td>False</td>\n",
       "    </tr>\n",
       "    <tr>\n",
       "      <th>8</th>\n",
       "      <td>2015000009</td>\n",
       "      <td>516770</td>\n",
       "      <td>Groundout</td>\n",
       "      <td>201500001</td>\n",
       "      <td>1</td>\n",
       "      <td>3</td>\n",
       "      <td>1</td>\n",
       "      <td>R</td>\n",
       "      <td>425794</td>\n",
       "      <td>R</td>\n",
       "      <td>False</td>\n",
       "    </tr>\n",
       "    <tr>\n",
       "      <th>9</th>\n",
       "      <td>2015000010</td>\n",
       "      <td>425877</td>\n",
       "      <td>Strikeout</td>\n",
       "      <td>201500001</td>\n",
       "      <td>2</td>\n",
       "      <td>1</td>\n",
       "      <td>0</td>\n",
       "      <td>L</td>\n",
       "      <td>452657</td>\n",
       "      <td>R</td>\n",
       "      <td>True</td>\n",
       "    </tr>\n",
       "  </tbody>\n",
       "</table>\n",
       "</div>"
      ],
      "text/plain": [
       "        ab_id  batter_id      event       g_id  inning  o  p_score p_throws  \\\n",
       "0  2015000001     572761  Groundout  201500001       1  1        0        L   \n",
       "1  2015000002     518792     Double  201500001       1  1        0        L   \n",
       "2  2015000003     407812     Single  201500001       1  1        0        L   \n",
       "3  2015000004     425509  Strikeout  201500001       1  2        0        L   \n",
       "4  2015000005     571431  Strikeout  201500001       1  3        0        L   \n",
       "5  2015000006     451594     Double  201500001       1  0        1        R   \n",
       "6  2015000007     624585  Groundout  201500001       1  1        1        R   \n",
       "7  2015000008     519203  Strikeout  201500001       1  2        1        R   \n",
       "8  2015000009     516770  Groundout  201500001       1  3        1        R   \n",
       "9  2015000010     425877  Strikeout  201500001       2  1        0        L   \n",
       "\n",
       "   pitcher_id stand    top  \n",
       "0      452657     L   True  \n",
       "1      452657     L   True  \n",
       "2      452657     R   True  \n",
       "3      452657     R   True  \n",
       "4      452657     L   True  \n",
       "5      425794     L  False  \n",
       "6      425794     R  False  \n",
       "7      425794     L  False  \n",
       "8      425794     R  False  \n",
       "9      452657     R   True  "
      ]
     },
     "execution_count": 4,
     "metadata": {},
     "output_type": "execute_result"
    }
   ],
   "source": [
    "atbats = pd.read_csv('atbats.csv')\n",
    "\n",
    "atbats.head(10)"
   ]
  },
  {
   "cell_type": "code",
   "execution_count": 5,
   "metadata": {
    "colab": {
     "base_uri": "https://localhost:8080/"
    },
    "id": "-GGqVmwDI-lY",
    "outputId": "2ddc6915-d691-4018-943b-fd5b60ee6fdd"
   },
   "outputs": [
    {
     "data": {
      "text/plain": [
       "(740389, 11)"
      ]
     },
     "execution_count": 5,
     "metadata": {},
     "output_type": "execute_result"
    }
   ],
   "source": [
    "atbats.shape"
   ]
  },
  {
   "cell_type": "code",
   "execution_count": 6,
   "metadata": {
    "colab": {
     "base_uri": "https://localhost:8080/"
    },
    "id": "f2ID2iUHI-lY",
    "outputId": "14cbde5c-5df5-4008-8eac-4e001b434aa8"
   },
   "outputs": [
    {
     "data": {
      "text/plain": [
       "(2867154, 50)"
      ]
     },
     "execution_count": 6,
     "metadata": {},
     "output_type": "execute_result"
    }
   ],
   "source": [
    "df = pd.merge(pitches, atbats, how='left', on='ab_id')\n",
    "df.shape"
   ]
  },
  {
   "cell_type": "code",
   "execution_count": 7,
   "metadata": {
    "colab": {
     "base_uri": "https://localhost:8080/"
    },
    "id": "sWUhSj__I-lZ",
    "outputId": "dfe89dff-c3df-4f71-e1dc-222d5bb59606",
    "scrolled": true
   },
   "outputs": [
    {
     "data": {
      "text/plain": [
       "Index(['px', 'pz', 'start_speed', 'end_speed', 'spin_rate', 'spin_dir',\n",
       "       'break_angle', 'break_length', 'break_y', 'ax', 'ay', 'az', 'sz_bot',\n",
       "       'sz_top', 'type_confidence', 'vx0', 'vy0', 'vz0', 'x', 'x0', 'y', 'y0',\n",
       "       'z0', 'pfx_x', 'pfx_z', 'nasty', 'zone', 'code', 'type', 'pitch_type',\n",
       "       'event_num', 'b_score', 'ab_id', 'b_count', 's_count', 'outs',\n",
       "       'pitch_num', 'on_1b', 'on_2b', 'on_3b', 'batter_id', 'event', 'g_id',\n",
       "       'inning', 'o', 'p_score', 'p_throws', 'pitcher_id', 'stand', 'top'],\n",
       "      dtype='object')"
      ]
     },
     "execution_count": 7,
     "metadata": {},
     "output_type": "execute_result"
    }
   ],
   "source": [
    "df.columns"
   ]
  },
  {
   "cell_type": "code",
   "execution_count": 8,
   "metadata": {
    "colab": {
     "base_uri": "https://localhost:8080/"
    },
    "id": "_2Mj9-2MI-lZ",
    "outputId": "a7567637-fe13-4c6f-b44a-ed7dbadf0156"
   },
   "outputs": [
    {
     "data": {
      "text/plain": [
       "px                 float64\n",
       "pz                 float64\n",
       "start_speed        float64\n",
       "end_speed          float64\n",
       "spin_rate          float64\n",
       "spin_dir           float64\n",
       "break_angle        float64\n",
       "break_length       float64\n",
       "break_y            float64\n",
       "ax                 float64\n",
       "ay                 float64\n",
       "az                 float64\n",
       "sz_bot             float64\n",
       "sz_top             float64\n",
       "type_confidence    float64\n",
       "vx0                float64\n",
       "vy0                float64\n",
       "vz0                float64\n",
       "x                  float64\n",
       "x0                 float64\n",
       "y                  float64\n",
       "y0                 float64\n",
       "z0                 float64\n",
       "pfx_x              float64\n",
       "pfx_z              float64\n",
       "nasty              float64\n",
       "zone               float64\n",
       "code                object\n",
       "type                object\n",
       "pitch_type          object\n",
       "event_num            int64\n",
       "b_score            float64\n",
       "ab_id              float64\n",
       "b_count            float64\n",
       "s_count            float64\n",
       "outs               float64\n",
       "pitch_num          float64\n",
       "on_1b              float64\n",
       "on_2b              float64\n",
       "on_3b              float64\n",
       "batter_id            int64\n",
       "event               object\n",
       "g_id                 int64\n",
       "inning               int64\n",
       "o                    int64\n",
       "p_score              int64\n",
       "p_throws            object\n",
       "pitcher_id           int64\n",
       "stand               object\n",
       "top                   bool\n",
       "dtype: object"
      ]
     },
     "execution_count": 8,
     "metadata": {},
     "output_type": "execute_result"
    }
   ],
   "source": [
    "df.dtypes"
   ]
  },
  {
   "cell_type": "code",
   "execution_count": 9,
   "metadata": {
    "colab": {
     "base_uri": "https://localhost:8080/"
    },
    "id": "_cGa-MtzI-la",
    "outputId": "0221b852-4c48-4f65-a9de-5670295bf413"
   },
   "outputs": [
    {
     "data": {
      "text/plain": [
       "px                 14189\n",
       "pz                 14189\n",
       "start_speed        14114\n",
       "end_speed          14114\n",
       "spin_rate          14189\n",
       "spin_dir           14189\n",
       "break_angle        14189\n",
       "break_length       14189\n",
       "break_y            14189\n",
       "ax                 14189\n",
       "ay                 14189\n",
       "az                 14189\n",
       "sz_bot              2083\n",
       "sz_top              2083\n",
       "type_confidence    14189\n",
       "vx0                14189\n",
       "vy0                14189\n",
       "vz0                14189\n",
       "x                      0\n",
       "x0                 14189\n",
       "y                      0\n",
       "y0                 14189\n",
       "z0                 14189\n",
       "pfx_x              14142\n",
       "pfx_z              14142\n",
       "nasty              14189\n",
       "zone               14189\n",
       "code                5719\n",
       "type                   0\n",
       "pitch_type         14189\n",
       "event_num              0\n",
       "b_score                0\n",
       "ab_id                  0\n",
       "b_count                0\n",
       "s_count                0\n",
       "outs                   0\n",
       "pitch_num              0\n",
       "on_1b                  0\n",
       "on_2b                  0\n",
       "on_3b                  0\n",
       "batter_id              0\n",
       "event                  0\n",
       "g_id                   0\n",
       "inning                 0\n",
       "o                      0\n",
       "p_score                0\n",
       "p_throws               0\n",
       "pitcher_id             0\n",
       "stand                  0\n",
       "top                    0\n",
       "dtype: int64"
      ]
     },
     "execution_count": 9,
     "metadata": {},
     "output_type": "execute_result"
    }
   ],
   "source": [
    "df.isnull().sum()"
   ]
  },
  {
   "cell_type": "code",
   "execution_count": 10,
   "metadata": {
    "id": "7QrGVD1iI-lb"
   },
   "outputs": [],
   "source": [
    "def df_clean(df):\n",
    "    copy = df\n",
    "    for i in range(27):\n",
    "        mean = np.mean(copy[copy.columns[i]])\n",
    "        copy[copy.columns[i]] = copy[copy.columns[i]].replace(np.nan, mean)\n",
    "    \n",
    "    \n",
    "    # convert the pitch type missing values to 'MISSING'\n",
    "    copy['pitch_type'] = copy['pitch_type'].replace(np.nan, 'UN')\n",
    "    copy['pitch_type'] = copy['pitch_type'].replace('UN', 'MISSING')\n",
    "\n",
    "    # convert the code missing values to 'MISSING'\n",
    "    copy['code'] = copy['code'].replace(np.nan, 'MISSING')\n",
    "    \n",
    "    return copy"
   ]
  },
  {
   "cell_type": "code",
   "execution_count": 11,
   "metadata": {
    "colab": {
     "base_uri": "https://localhost:8080/"
    },
    "id": "zFXFKJzsI-lc",
    "outputId": "5f44c64f-f008-4127-93fe-d3f0bffb775d"
   },
   "outputs": [
    {
     "data": {
      "text/plain": [
       "px                 0\n",
       "pz                 0\n",
       "start_speed        0\n",
       "end_speed          0\n",
       "spin_rate          0\n",
       "spin_dir           0\n",
       "break_angle        0\n",
       "break_length       0\n",
       "break_y            0\n",
       "ax                 0\n",
       "ay                 0\n",
       "az                 0\n",
       "sz_bot             0\n",
       "sz_top             0\n",
       "type_confidence    0\n",
       "vx0                0\n",
       "vy0                0\n",
       "vz0                0\n",
       "x                  0\n",
       "x0                 0\n",
       "y                  0\n",
       "y0                 0\n",
       "z0                 0\n",
       "pfx_x              0\n",
       "pfx_z              0\n",
       "nasty              0\n",
       "zone               0\n",
       "code               0\n",
       "type               0\n",
       "pitch_type         0\n",
       "event_num          0\n",
       "b_score            0\n",
       "ab_id              0\n",
       "b_count            0\n",
       "s_count            0\n",
       "outs               0\n",
       "pitch_num          0\n",
       "on_1b              0\n",
       "on_2b              0\n",
       "on_3b              0\n",
       "batter_id          0\n",
       "event              0\n",
       "g_id               0\n",
       "inning             0\n",
       "o                  0\n",
       "p_score            0\n",
       "p_throws           0\n",
       "pitcher_id         0\n",
       "stand              0\n",
       "top                0\n",
       "dtype: int64"
      ]
     },
     "execution_count": 11,
     "metadata": {},
     "output_type": "execute_result"
    }
   ],
   "source": [
    "df_clean(df)\n",
    "df.isnull().sum()"
   ]
  },
  {
   "cell_type": "code",
   "execution_count": 12,
   "metadata": {
    "colab": {
     "base_uri": "https://localhost:8080/"
    },
    "id": "5f1l1K6EI-ld",
    "outputId": "ca1d7616-bec5-46d6-af86-6f2a24383512",
    "scrolled": true
   },
   "outputs": [
    {
     "data": {
      "text/plain": [
       "array(['FF', 'CU', 'FC', 'SI', 'CH', 'FT', 'IN', 'SL', 'MISSING', 'KC',\n",
       "       'EP', 'FS', 'FO', 'PO', 'KN', 'SC', 'FA', 'AB'], dtype=object)"
      ]
     },
     "execution_count": 12,
     "metadata": {},
     "output_type": "execute_result"
    }
   ],
   "source": [
    "df['pitch_type'].unique()"
   ]
  },
  {
   "cell_type": "code",
   "execution_count": 13,
   "metadata": {
    "colab": {
     "base_uri": "https://localhost:8080/"
    },
    "id": "B7grg_uTI-ld",
    "outputId": "ddfa74a7-7613-460d-d63e-28d1448d0579"
   },
   "outputs": [
    {
     "data": {
      "text/plain": [
       "FF         1014877\n",
       "SL          450578\n",
       "FT          337983\n",
       "CH          292789\n",
       "SI          242504\n",
       "CU          234391\n",
       "FC          149756\n",
       "KC           66484\n",
       "FS           43705\n",
       "MISSING      14246\n",
       "KN           11260\n",
       "IN            6197\n",
       "EP             815\n",
       "FO             810\n",
       "PO             628\n",
       "SC             113\n",
       "FA               9\n",
       "AB               9\n",
       "Name: pitch_type, dtype: int64"
      ]
     },
     "execution_count": 13,
     "metadata": {},
     "output_type": "execute_result"
    }
   ],
   "source": [
    "df['pitch_type'].value_counts()"
   ]
  },
  {
   "cell_type": "code",
   "execution_count": 14,
   "metadata": {
    "colab": {
     "base_uri": "https://localhost:8080/"
    },
    "id": "GCPIHOQ7I-le",
    "outputId": "3c0a4a81-f672-4699-e87d-a734a31ac731"
   },
   "outputs": [
    {
     "data": {
      "text/plain": [
       "1    1502625\n",
       "0    1364529\n",
       "Name: fastball, dtype: int64"
      ]
     },
     "execution_count": 14,
     "metadata": {},
     "output_type": "execute_result"
    }
   ],
   "source": [
    "# create a duplicate pitch type column\n",
    "df['fastball'] = df['pitch_type']\n",
    "\n",
    "# replace all fastballs with a value of FF in duplicate column\n",
    "df['fastball'] = df['fastball'].replace('FT', 'FF')\n",
    "df['fastball'] = df['fastball'].replace('FC', 'FF')\n",
    "df['fastball'] = df['fastball'].replace('FA', 'FF')\n",
    "\n",
    "# populate the fastball column with the correct values\n",
    "df['fastball'] = np.where(df['fastball'] == 'FF', 1, 0)\n",
    "\n",
    "df['fastball'].value_counts()"
   ]
  },
  {
   "cell_type": "code",
   "execution_count": 15,
   "metadata": {
    "colab": {
     "base_uri": "https://localhost:8080/",
     "height": 355
    },
    "id": "dtDi3-AtI-le",
    "outputId": "487947cc-299e-46e8-ad5e-f5b3d5b1653f"
   },
   "outputs": [
    {
     "data": {
      "text/html": [
       "<div>\n",
       "<style scoped>\n",
       "    .dataframe tbody tr th:only-of-type {\n",
       "        vertical-align: middle;\n",
       "    }\n",
       "\n",
       "    .dataframe tbody tr th {\n",
       "        vertical-align: top;\n",
       "    }\n",
       "\n",
       "    .dataframe thead th {\n",
       "        text-align: right;\n",
       "    }\n",
       "</style>\n",
       "<table border=\"1\" class=\"dataframe\">\n",
       "  <thead>\n",
       "    <tr style=\"text-align: right;\">\n",
       "      <th></th>\n",
       "      <th>px</th>\n",
       "      <th>pz</th>\n",
       "      <th>start_speed</th>\n",
       "      <th>end_speed</th>\n",
       "      <th>spin_rate</th>\n",
       "      <th>spin_dir</th>\n",
       "      <th>break_angle</th>\n",
       "      <th>break_length</th>\n",
       "      <th>break_y</th>\n",
       "      <th>ax</th>\n",
       "      <th>...</th>\n",
       "      <th>event</th>\n",
       "      <th>g_id</th>\n",
       "      <th>inning</th>\n",
       "      <th>o</th>\n",
       "      <th>p_score</th>\n",
       "      <th>p_throws</th>\n",
       "      <th>pitcher_id</th>\n",
       "      <th>stand</th>\n",
       "      <th>top</th>\n",
       "      <th>fastball</th>\n",
       "    </tr>\n",
       "  </thead>\n",
       "  <tbody>\n",
       "    <tr>\n",
       "      <th>0</th>\n",
       "      <td>0.416</td>\n",
       "      <td>2.963</td>\n",
       "      <td>92.9</td>\n",
       "      <td>84.1</td>\n",
       "      <td>2305.052</td>\n",
       "      <td>159.235</td>\n",
       "      <td>-25.0</td>\n",
       "      <td>3.2</td>\n",
       "      <td>23.7</td>\n",
       "      <td>7.665</td>\n",
       "      <td>...</td>\n",
       "      <td>Groundout</td>\n",
       "      <td>201500001</td>\n",
       "      <td>1</td>\n",
       "      <td>1</td>\n",
       "      <td>0</td>\n",
       "      <td>L</td>\n",
       "      <td>452657</td>\n",
       "      <td>L</td>\n",
       "      <td>True</td>\n",
       "      <td>1</td>\n",
       "    </tr>\n",
       "    <tr>\n",
       "      <th>1</th>\n",
       "      <td>-0.191</td>\n",
       "      <td>2.347</td>\n",
       "      <td>92.8</td>\n",
       "      <td>84.1</td>\n",
       "      <td>2689.935</td>\n",
       "      <td>151.402</td>\n",
       "      <td>-40.7</td>\n",
       "      <td>3.4</td>\n",
       "      <td>23.7</td>\n",
       "      <td>12.043</td>\n",
       "      <td>...</td>\n",
       "      <td>Groundout</td>\n",
       "      <td>201500001</td>\n",
       "      <td>1</td>\n",
       "      <td>1</td>\n",
       "      <td>0</td>\n",
       "      <td>L</td>\n",
       "      <td>452657</td>\n",
       "      <td>L</td>\n",
       "      <td>True</td>\n",
       "      <td>1</td>\n",
       "    </tr>\n",
       "    <tr>\n",
       "      <th>2</th>\n",
       "      <td>-0.518</td>\n",
       "      <td>3.284</td>\n",
       "      <td>94.1</td>\n",
       "      <td>85.2</td>\n",
       "      <td>2647.972</td>\n",
       "      <td>145.125</td>\n",
       "      <td>-43.7</td>\n",
       "      <td>3.7</td>\n",
       "      <td>23.7</td>\n",
       "      <td>14.368</td>\n",
       "      <td>...</td>\n",
       "      <td>Groundout</td>\n",
       "      <td>201500001</td>\n",
       "      <td>1</td>\n",
       "      <td>1</td>\n",
       "      <td>0</td>\n",
       "      <td>L</td>\n",
       "      <td>452657</td>\n",
       "      <td>L</td>\n",
       "      <td>True</td>\n",
       "      <td>1</td>\n",
       "    </tr>\n",
       "    <tr>\n",
       "      <th>3</th>\n",
       "      <td>-0.641</td>\n",
       "      <td>1.221</td>\n",
       "      <td>91.0</td>\n",
       "      <td>84.0</td>\n",
       "      <td>1289.590</td>\n",
       "      <td>169.751</td>\n",
       "      <td>-1.3</td>\n",
       "      <td>5.0</td>\n",
       "      <td>23.8</td>\n",
       "      <td>2.104</td>\n",
       "      <td>...</td>\n",
       "      <td>Groundout</td>\n",
       "      <td>201500001</td>\n",
       "      <td>1</td>\n",
       "      <td>1</td>\n",
       "      <td>0</td>\n",
       "      <td>L</td>\n",
       "      <td>452657</td>\n",
       "      <td>L</td>\n",
       "      <td>True</td>\n",
       "      <td>1</td>\n",
       "    </tr>\n",
       "    <tr>\n",
       "      <th>4</th>\n",
       "      <td>-1.821</td>\n",
       "      <td>2.083</td>\n",
       "      <td>75.4</td>\n",
       "      <td>69.6</td>\n",
       "      <td>1374.569</td>\n",
       "      <td>280.671</td>\n",
       "      <td>18.4</td>\n",
       "      <td>12.0</td>\n",
       "      <td>23.8</td>\n",
       "      <td>-10.280</td>\n",
       "      <td>...</td>\n",
       "      <td>Groundout</td>\n",
       "      <td>201500001</td>\n",
       "      <td>1</td>\n",
       "      <td>1</td>\n",
       "      <td>0</td>\n",
       "      <td>L</td>\n",
       "      <td>452657</td>\n",
       "      <td>L</td>\n",
       "      <td>True</td>\n",
       "      <td>0</td>\n",
       "    </tr>\n",
       "    <tr>\n",
       "      <th>5</th>\n",
       "      <td>0.627</td>\n",
       "      <td>2.397</td>\n",
       "      <td>92.9</td>\n",
       "      <td>84.8</td>\n",
       "      <td>2743.856</td>\n",
       "      <td>148.110</td>\n",
       "      <td>-45.7</td>\n",
       "      <td>3.7</td>\n",
       "      <td>23.7</td>\n",
       "      <td>13.590</td>\n",
       "      <td>...</td>\n",
       "      <td>Groundout</td>\n",
       "      <td>201500001</td>\n",
       "      <td>1</td>\n",
       "      <td>1</td>\n",
       "      <td>0</td>\n",
       "      <td>L</td>\n",
       "      <td>452657</td>\n",
       "      <td>L</td>\n",
       "      <td>True</td>\n",
       "      <td>1</td>\n",
       "    </tr>\n",
       "    <tr>\n",
       "      <th>6</th>\n",
       "      <td>-1.088</td>\n",
       "      <td>1.610</td>\n",
       "      <td>93.3</td>\n",
       "      <td>85.3</td>\n",
       "      <td>2848.535</td>\n",
       "      <td>147.044</td>\n",
       "      <td>-46.3</td>\n",
       "      <td>3.6</td>\n",
       "      <td>23.7</td>\n",
       "      <td>14.549</td>\n",
       "      <td>...</td>\n",
       "      <td>Double</td>\n",
       "      <td>201500001</td>\n",
       "      <td>1</td>\n",
       "      <td>1</td>\n",
       "      <td>0</td>\n",
       "      <td>L</td>\n",
       "      <td>452657</td>\n",
       "      <td>L</td>\n",
       "      <td>True</td>\n",
       "      <td>1</td>\n",
       "    </tr>\n",
       "    <tr>\n",
       "      <th>7</th>\n",
       "      <td>-0.257</td>\n",
       "      <td>2.047</td>\n",
       "      <td>89.3</td>\n",
       "      <td>82.4</td>\n",
       "      <td>1433.743</td>\n",
       "      <td>185.948</td>\n",
       "      <td>7.3</td>\n",
       "      <td>4.8</td>\n",
       "      <td>23.8</td>\n",
       "      <td>-1.339</td>\n",
       "      <td>...</td>\n",
       "      <td>Double</td>\n",
       "      <td>201500001</td>\n",
       "      <td>1</td>\n",
       "      <td>1</td>\n",
       "      <td>0</td>\n",
       "      <td>L</td>\n",
       "      <td>452657</td>\n",
       "      <td>L</td>\n",
       "      <td>True</td>\n",
       "      <td>1</td>\n",
       "    </tr>\n",
       "    <tr>\n",
       "      <th>8</th>\n",
       "      <td>1.470</td>\n",
       "      <td>2.350</td>\n",
       "      <td>92.1</td>\n",
       "      <td>85.0</td>\n",
       "      <td>2666.090</td>\n",
       "      <td>146.146</td>\n",
       "      <td>-45.0</td>\n",
       "      <td>4.0</td>\n",
       "      <td>23.8</td>\n",
       "      <td>13.808</td>\n",
       "      <td>...</td>\n",
       "      <td>Single</td>\n",
       "      <td>201500001</td>\n",
       "      <td>1</td>\n",
       "      <td>1</td>\n",
       "      <td>0</td>\n",
       "      <td>L</td>\n",
       "      <td>452657</td>\n",
       "      <td>R</td>\n",
       "      <td>True</td>\n",
       "      <td>1</td>\n",
       "    </tr>\n",
       "    <tr>\n",
       "      <th>9</th>\n",
       "      <td>-1.337</td>\n",
       "      <td>1.898</td>\n",
       "      <td>89.3</td>\n",
       "      <td>82.0</td>\n",
       "      <td>1384.143</td>\n",
       "      <td>174.388</td>\n",
       "      <td>2.0</td>\n",
       "      <td>4.9</td>\n",
       "      <td>23.8</td>\n",
       "      <td>1.218</td>\n",
       "      <td>...</td>\n",
       "      <td>Single</td>\n",
       "      <td>201500001</td>\n",
       "      <td>1</td>\n",
       "      <td>1</td>\n",
       "      <td>0</td>\n",
       "      <td>L</td>\n",
       "      <td>452657</td>\n",
       "      <td>R</td>\n",
       "      <td>True</td>\n",
       "      <td>1</td>\n",
       "    </tr>\n",
       "  </tbody>\n",
       "</table>\n",
       "<p>10 rows × 51 columns</p>\n",
       "</div>"
      ],
      "text/plain": [
       "      px     pz  start_speed  end_speed  spin_rate  spin_dir  break_angle  \\\n",
       "0  0.416  2.963         92.9       84.1   2305.052   159.235        -25.0   \n",
       "1 -0.191  2.347         92.8       84.1   2689.935   151.402        -40.7   \n",
       "2 -0.518  3.284         94.1       85.2   2647.972   145.125        -43.7   \n",
       "3 -0.641  1.221         91.0       84.0   1289.590   169.751         -1.3   \n",
       "4 -1.821  2.083         75.4       69.6   1374.569   280.671         18.4   \n",
       "5  0.627  2.397         92.9       84.8   2743.856   148.110        -45.7   \n",
       "6 -1.088  1.610         93.3       85.3   2848.535   147.044        -46.3   \n",
       "7 -0.257  2.047         89.3       82.4   1433.743   185.948          7.3   \n",
       "8  1.470  2.350         92.1       85.0   2666.090   146.146        -45.0   \n",
       "9 -1.337  1.898         89.3       82.0   1384.143   174.388          2.0   \n",
       "\n",
       "   break_length  break_y      ax  ...      event       g_id  inning  o  \\\n",
       "0           3.2     23.7   7.665  ...  Groundout  201500001       1  1   \n",
       "1           3.4     23.7  12.043  ...  Groundout  201500001       1  1   \n",
       "2           3.7     23.7  14.368  ...  Groundout  201500001       1  1   \n",
       "3           5.0     23.8   2.104  ...  Groundout  201500001       1  1   \n",
       "4          12.0     23.8 -10.280  ...  Groundout  201500001       1  1   \n",
       "5           3.7     23.7  13.590  ...  Groundout  201500001       1  1   \n",
       "6           3.6     23.7  14.549  ...     Double  201500001       1  1   \n",
       "7           4.8     23.8  -1.339  ...     Double  201500001       1  1   \n",
       "8           4.0     23.8  13.808  ...     Single  201500001       1  1   \n",
       "9           4.9     23.8   1.218  ...     Single  201500001       1  1   \n",
       "\n",
       "   p_score  p_throws  pitcher_id  stand   top  fastball  \n",
       "0        0         L      452657      L  True         1  \n",
       "1        0         L      452657      L  True         1  \n",
       "2        0         L      452657      L  True         1  \n",
       "3        0         L      452657      L  True         1  \n",
       "4        0         L      452657      L  True         0  \n",
       "5        0         L      452657      L  True         1  \n",
       "6        0         L      452657      L  True         1  \n",
       "7        0         L      452657      L  True         1  \n",
       "8        0         L      452657      R  True         1  \n",
       "9        0         L      452657      R  True         1  \n",
       "\n",
       "[10 rows x 51 columns]"
      ]
     },
     "execution_count": 15,
     "metadata": {},
     "output_type": "execute_result"
    }
   ],
   "source": [
    "df.head(10)"
   ]
  },
  {
   "cell_type": "markdown",
   "metadata": {
    "id": "XeGnPWYhI-lf"
   },
   "source": [
    "# EDA"
   ]
  },
  {
   "cell_type": "code",
   "execution_count": 16,
   "metadata": {
    "id": "k0LkkkhJI-lg"
   },
   "outputs": [],
   "source": [
    "fastball = df[df['fastball'] == 1]\n",
    "nonfastball = df[df['fastball'] == 0]"
   ]
  },
  {
   "cell_type": "code",
   "execution_count": 17,
   "metadata": {
    "colab": {
     "base_uri": "https://localhost:8080/",
     "height": 211
    },
    "id": "zCQH8SxvI-lh",
    "outputId": "23c46453-f78f-4746-d9ab-df0a2267757b"
   },
   "outputs": [
    {
     "data": {
      "text/html": [
       "<div>\n",
       "<style scoped>\n",
       "    .dataframe tbody tr th:only-of-type {\n",
       "        vertical-align: middle;\n",
       "    }\n",
       "\n",
       "    .dataframe tbody tr th {\n",
       "        vertical-align: top;\n",
       "    }\n",
       "\n",
       "    .dataframe thead th {\n",
       "        text-align: right;\n",
       "    }\n",
       "</style>\n",
       "<table border=\"1\" class=\"dataframe\">\n",
       "  <thead>\n",
       "    <tr style=\"text-align: right;\">\n",
       "      <th></th>\n",
       "      <th>px</th>\n",
       "      <th>pz</th>\n",
       "      <th>start_speed</th>\n",
       "      <th>end_speed</th>\n",
       "      <th>spin_rate</th>\n",
       "      <th>spin_dir</th>\n",
       "      <th>break_angle</th>\n",
       "      <th>break_length</th>\n",
       "      <th>break_y</th>\n",
       "      <th>ax</th>\n",
       "      <th>...</th>\n",
       "      <th>event</th>\n",
       "      <th>g_id</th>\n",
       "      <th>inning</th>\n",
       "      <th>o</th>\n",
       "      <th>p_score</th>\n",
       "      <th>p_throws</th>\n",
       "      <th>pitcher_id</th>\n",
       "      <th>stand</th>\n",
       "      <th>top</th>\n",
       "      <th>fastball</th>\n",
       "    </tr>\n",
       "  </thead>\n",
       "  <tbody>\n",
       "    <tr>\n",
       "      <th>0</th>\n",
       "      <td>0.416</td>\n",
       "      <td>2.963</td>\n",
       "      <td>92.9</td>\n",
       "      <td>84.1</td>\n",
       "      <td>2305.052</td>\n",
       "      <td>159.235</td>\n",
       "      <td>-25.0</td>\n",
       "      <td>3.2</td>\n",
       "      <td>23.7</td>\n",
       "      <td>7.665</td>\n",
       "      <td>...</td>\n",
       "      <td>Groundout</td>\n",
       "      <td>201500001</td>\n",
       "      <td>1</td>\n",
       "      <td>1</td>\n",
       "      <td>0</td>\n",
       "      <td>L</td>\n",
       "      <td>452657</td>\n",
       "      <td>L</td>\n",
       "      <td>True</td>\n",
       "      <td>1</td>\n",
       "    </tr>\n",
       "    <tr>\n",
       "      <th>1</th>\n",
       "      <td>-0.191</td>\n",
       "      <td>2.347</td>\n",
       "      <td>92.8</td>\n",
       "      <td>84.1</td>\n",
       "      <td>2689.935</td>\n",
       "      <td>151.402</td>\n",
       "      <td>-40.7</td>\n",
       "      <td>3.4</td>\n",
       "      <td>23.7</td>\n",
       "      <td>12.043</td>\n",
       "      <td>...</td>\n",
       "      <td>Groundout</td>\n",
       "      <td>201500001</td>\n",
       "      <td>1</td>\n",
       "      <td>1</td>\n",
       "      <td>0</td>\n",
       "      <td>L</td>\n",
       "      <td>452657</td>\n",
       "      <td>L</td>\n",
       "      <td>True</td>\n",
       "      <td>1</td>\n",
       "    </tr>\n",
       "    <tr>\n",
       "      <th>2</th>\n",
       "      <td>-0.518</td>\n",
       "      <td>3.284</td>\n",
       "      <td>94.1</td>\n",
       "      <td>85.2</td>\n",
       "      <td>2647.972</td>\n",
       "      <td>145.125</td>\n",
       "      <td>-43.7</td>\n",
       "      <td>3.7</td>\n",
       "      <td>23.7</td>\n",
       "      <td>14.368</td>\n",
       "      <td>...</td>\n",
       "      <td>Groundout</td>\n",
       "      <td>201500001</td>\n",
       "      <td>1</td>\n",
       "      <td>1</td>\n",
       "      <td>0</td>\n",
       "      <td>L</td>\n",
       "      <td>452657</td>\n",
       "      <td>L</td>\n",
       "      <td>True</td>\n",
       "      <td>1</td>\n",
       "    </tr>\n",
       "    <tr>\n",
       "      <th>3</th>\n",
       "      <td>-0.641</td>\n",
       "      <td>1.221</td>\n",
       "      <td>91.0</td>\n",
       "      <td>84.0</td>\n",
       "      <td>1289.590</td>\n",
       "      <td>169.751</td>\n",
       "      <td>-1.3</td>\n",
       "      <td>5.0</td>\n",
       "      <td>23.8</td>\n",
       "      <td>2.104</td>\n",
       "      <td>...</td>\n",
       "      <td>Groundout</td>\n",
       "      <td>201500001</td>\n",
       "      <td>1</td>\n",
       "      <td>1</td>\n",
       "      <td>0</td>\n",
       "      <td>L</td>\n",
       "      <td>452657</td>\n",
       "      <td>L</td>\n",
       "      <td>True</td>\n",
       "      <td>1</td>\n",
       "    </tr>\n",
       "    <tr>\n",
       "      <th>5</th>\n",
       "      <td>0.627</td>\n",
       "      <td>2.397</td>\n",
       "      <td>92.9</td>\n",
       "      <td>84.8</td>\n",
       "      <td>2743.856</td>\n",
       "      <td>148.110</td>\n",
       "      <td>-45.7</td>\n",
       "      <td>3.7</td>\n",
       "      <td>23.7</td>\n",
       "      <td>13.590</td>\n",
       "      <td>...</td>\n",
       "      <td>Groundout</td>\n",
       "      <td>201500001</td>\n",
       "      <td>1</td>\n",
       "      <td>1</td>\n",
       "      <td>0</td>\n",
       "      <td>L</td>\n",
       "      <td>452657</td>\n",
       "      <td>L</td>\n",
       "      <td>True</td>\n",
       "      <td>1</td>\n",
       "    </tr>\n",
       "  </tbody>\n",
       "</table>\n",
       "<p>5 rows × 51 columns</p>\n",
       "</div>"
      ],
      "text/plain": [
       "      px     pz  start_speed  end_speed  spin_rate  spin_dir  break_angle  \\\n",
       "0  0.416  2.963         92.9       84.1   2305.052   159.235        -25.0   \n",
       "1 -0.191  2.347         92.8       84.1   2689.935   151.402        -40.7   \n",
       "2 -0.518  3.284         94.1       85.2   2647.972   145.125        -43.7   \n",
       "3 -0.641  1.221         91.0       84.0   1289.590   169.751         -1.3   \n",
       "5  0.627  2.397         92.9       84.8   2743.856   148.110        -45.7   \n",
       "\n",
       "   break_length  break_y      ax  ...      event       g_id  inning  o  \\\n",
       "0           3.2     23.7   7.665  ...  Groundout  201500001       1  1   \n",
       "1           3.4     23.7  12.043  ...  Groundout  201500001       1  1   \n",
       "2           3.7     23.7  14.368  ...  Groundout  201500001       1  1   \n",
       "3           5.0     23.8   2.104  ...  Groundout  201500001       1  1   \n",
       "5           3.7     23.7  13.590  ...  Groundout  201500001       1  1   \n",
       "\n",
       "   p_score  p_throws  pitcher_id  stand   top  fastball  \n",
       "0        0         L      452657      L  True         1  \n",
       "1        0         L      452657      L  True         1  \n",
       "2        0         L      452657      L  True         1  \n",
       "3        0         L      452657      L  True         1  \n",
       "5        0         L      452657      L  True         1  \n",
       "\n",
       "[5 rows x 51 columns]"
      ]
     },
     "execution_count": 17,
     "metadata": {},
     "output_type": "execute_result"
    }
   ],
   "source": [
    "fastball.head()"
   ]
  },
  {
   "cell_type": "code",
   "execution_count": 18,
   "metadata": {
    "colab": {
     "base_uri": "https://localhost:8080/",
     "height": 211
    },
    "id": "ilDKLcXRI-lh",
    "outputId": "8a01046f-955e-4bc5-9e6d-390bdf1ac8e5"
   },
   "outputs": [
    {
     "data": {
      "text/html": [
       "<div>\n",
       "<style scoped>\n",
       "    .dataframe tbody tr th:only-of-type {\n",
       "        vertical-align: middle;\n",
       "    }\n",
       "\n",
       "    .dataframe tbody tr th {\n",
       "        vertical-align: top;\n",
       "    }\n",
       "\n",
       "    .dataframe thead th {\n",
       "        text-align: right;\n",
       "    }\n",
       "</style>\n",
       "<table border=\"1\" class=\"dataframe\">\n",
       "  <thead>\n",
       "    <tr style=\"text-align: right;\">\n",
       "      <th></th>\n",
       "      <th>px</th>\n",
       "      <th>pz</th>\n",
       "      <th>start_speed</th>\n",
       "      <th>end_speed</th>\n",
       "      <th>spin_rate</th>\n",
       "      <th>spin_dir</th>\n",
       "      <th>break_angle</th>\n",
       "      <th>break_length</th>\n",
       "      <th>break_y</th>\n",
       "      <th>ax</th>\n",
       "      <th>...</th>\n",
       "      <th>event</th>\n",
       "      <th>g_id</th>\n",
       "      <th>inning</th>\n",
       "      <th>o</th>\n",
       "      <th>p_score</th>\n",
       "      <th>p_throws</th>\n",
       "      <th>pitcher_id</th>\n",
       "      <th>stand</th>\n",
       "      <th>top</th>\n",
       "      <th>fastball</th>\n",
       "    </tr>\n",
       "  </thead>\n",
       "  <tbody>\n",
       "    <tr>\n",
       "      <th>4</th>\n",
       "      <td>-1.821</td>\n",
       "      <td>2.083</td>\n",
       "      <td>75.4</td>\n",
       "      <td>69.6</td>\n",
       "      <td>1374.569</td>\n",
       "      <td>280.671</td>\n",
       "      <td>18.4</td>\n",
       "      <td>12.0</td>\n",
       "      <td>23.8</td>\n",
       "      <td>-10.280</td>\n",
       "      <td>...</td>\n",
       "      <td>Groundout</td>\n",
       "      <td>201500001</td>\n",
       "      <td>1</td>\n",
       "      <td>1</td>\n",
       "      <td>0</td>\n",
       "      <td>L</td>\n",
       "      <td>452657</td>\n",
       "      <td>L</td>\n",
       "      <td>True</td>\n",
       "      <td>0</td>\n",
       "    </tr>\n",
       "    <tr>\n",
       "      <th>11</th>\n",
       "      <td>0.200</td>\n",
       "      <td>2.643</td>\n",
       "      <td>90.5</td>\n",
       "      <td>83.7</td>\n",
       "      <td>2186.173</td>\n",
       "      <td>119.214</td>\n",
       "      <td>-34.4</td>\n",
       "      <td>6.3</td>\n",
       "      <td>23.8</td>\n",
       "      <td>17.411</td>\n",
       "      <td>...</td>\n",
       "      <td>Strikeout</td>\n",
       "      <td>201500001</td>\n",
       "      <td>1</td>\n",
       "      <td>2</td>\n",
       "      <td>0</td>\n",
       "      <td>L</td>\n",
       "      <td>452657</td>\n",
       "      <td>R</td>\n",
       "      <td>True</td>\n",
       "      <td>0</td>\n",
       "    </tr>\n",
       "    <tr>\n",
       "      <th>13</th>\n",
       "      <td>-0.711</td>\n",
       "      <td>1.971</td>\n",
       "      <td>76.3</td>\n",
       "      <td>71.2</td>\n",
       "      <td>818.890</td>\n",
       "      <td>283.898</td>\n",
       "      <td>11.6</td>\n",
       "      <td>11.0</td>\n",
       "      <td>23.9</td>\n",
       "      <td>-6.127</td>\n",
       "      <td>...</td>\n",
       "      <td>Strikeout</td>\n",
       "      <td>201500001</td>\n",
       "      <td>1</td>\n",
       "      <td>2</td>\n",
       "      <td>0</td>\n",
       "      <td>L</td>\n",
       "      <td>452657</td>\n",
       "      <td>R</td>\n",
       "      <td>True</td>\n",
       "      <td>0</td>\n",
       "    </tr>\n",
       "    <tr>\n",
       "      <th>19</th>\n",
       "      <td>-1.585</td>\n",
       "      <td>1.720</td>\n",
       "      <td>89.5</td>\n",
       "      <td>82.2</td>\n",
       "      <td>2357.290</td>\n",
       "      <td>230.354</td>\n",
       "      <td>38.0</td>\n",
       "      <td>6.0</td>\n",
       "      <td>23.8</td>\n",
       "      <td>-16.390</td>\n",
       "      <td>...</td>\n",
       "      <td>Double</td>\n",
       "      <td>201500001</td>\n",
       "      <td>1</td>\n",
       "      <td>0</td>\n",
       "      <td>1</td>\n",
       "      <td>R</td>\n",
       "      <td>425794</td>\n",
       "      <td>L</td>\n",
       "      <td>False</td>\n",
       "      <td>0</td>\n",
       "    </tr>\n",
       "    <tr>\n",
       "      <th>22</th>\n",
       "      <td>1.703</td>\n",
       "      <td>0.220</td>\n",
       "      <td>76.1</td>\n",
       "      <td>69.8</td>\n",
       "      <td>1844.187</td>\n",
       "      <td>38.345</td>\n",
       "      <td>-12.2</td>\n",
       "      <td>15.1</td>\n",
       "      <td>23.8</td>\n",
       "      <td>8.791</td>\n",
       "      <td>...</td>\n",
       "      <td>Groundout</td>\n",
       "      <td>201500001</td>\n",
       "      <td>1</td>\n",
       "      <td>1</td>\n",
       "      <td>1</td>\n",
       "      <td>R</td>\n",
       "      <td>425794</td>\n",
       "      <td>R</td>\n",
       "      <td>False</td>\n",
       "      <td>0</td>\n",
       "    </tr>\n",
       "  </tbody>\n",
       "</table>\n",
       "<p>5 rows × 51 columns</p>\n",
       "</div>"
      ],
      "text/plain": [
       "       px     pz  start_speed  end_speed  spin_rate  spin_dir  break_angle  \\\n",
       "4  -1.821  2.083         75.4       69.6   1374.569   280.671         18.4   \n",
       "11  0.200  2.643         90.5       83.7   2186.173   119.214        -34.4   \n",
       "13 -0.711  1.971         76.3       71.2    818.890   283.898         11.6   \n",
       "19 -1.585  1.720         89.5       82.2   2357.290   230.354         38.0   \n",
       "22  1.703  0.220         76.1       69.8   1844.187    38.345        -12.2   \n",
       "\n",
       "    break_length  break_y      ax  ...      event       g_id  inning  o  \\\n",
       "4           12.0     23.8 -10.280  ...  Groundout  201500001       1  1   \n",
       "11           6.3     23.8  17.411  ...  Strikeout  201500001       1  2   \n",
       "13          11.0     23.9  -6.127  ...  Strikeout  201500001       1  2   \n",
       "19           6.0     23.8 -16.390  ...     Double  201500001       1  0   \n",
       "22          15.1     23.8   8.791  ...  Groundout  201500001       1  1   \n",
       "\n",
       "    p_score  p_throws  pitcher_id  stand    top  fastball  \n",
       "4         0         L      452657      L   True         0  \n",
       "11        0         L      452657      R   True         0  \n",
       "13        0         L      452657      R   True         0  \n",
       "19        1         R      425794      L  False         0  \n",
       "22        1         R      425794      R  False         0  \n",
       "\n",
       "[5 rows x 51 columns]"
      ]
     },
     "execution_count": 18,
     "metadata": {},
     "output_type": "execute_result"
    }
   ],
   "source": [
    "nonfastball.head()"
   ]
  },
  {
   "cell_type": "code",
   "execution_count": 19,
   "metadata": {
    "colab": {
     "base_uri": "https://localhost:8080/",
     "height": 381
    },
    "id": "a4vRLcnJI-lh",
    "outputId": "2b6a8c8f-905c-47ad-d5e4-5edfbbba1031"
   },
   "outputs": [
    {
     "data": {
      "image/png": "[encoded data removed]",
      "text/plain": [
       "<Figure size 1440x360 with 1 Axes>"
      ]
     },
     "metadata": {
      "needs_background": "light"
     },
     "output_type": "display_data"
    }
   ],
   "source": [
    "_ = plt.figure(figsize=(20,5))\n",
    "_ = plt.subplot(1,2,1)\n",
    "_ = df['pitch_type'].value_counts().plot.bar()\n",
    "_ = plt.title('Number of Pitches Thrown by Pitch Type', size='large')\n",
    "_ = plt.xlabel('Pitch Type')\n",
    "_ = plt.ylabel('# of Pitches')\n",
    "_ = plt.ticklabel_format(style='plain', axis='y')\n",
    "_ = plt.xticks(rotation=60)"
   ]
  },
  {
   "cell_type": "code",
   "execution_count": 20,
   "metadata": {
    "colab": {
     "base_uri": "https://localhost:8080/",
     "height": 318
    },
    "id": "U_2bAscFI-li",
    "outputId": "dfdedbb3-c28c-4535-fc53-66533b75c402"
   },
   "outputs": [
    {
     "data": {
      "image/png": "[encoded data removed]",
      "text/plain": [
       "<Figure size 1440x360 with 1 Axes>"
      ]
     },
     "metadata": {},
     "output_type": "display_data"
    }
   ],
   "source": [
    "_ = plt.figure(figsize=(20,5))\n",
    "_ = plt.subplot(1,2,2)\n",
    "_ = df['fastball'].value_counts().plot.pie(labels=['fastballs', 'non-fastballs'], autopct='%.2f%%')\n",
    "_ = plt.title('Percentage of Fastballs Thrown', size='large')\n",
    "_ = plt.ylabel(None)"
   ]
  },
  {
   "cell_type": "code",
   "execution_count": 21,
   "metadata": {
    "id": "dPLlIFBII-li"
   },
   "outputs": [],
   "source": [
    "no_runners = df[(df['on_1b'] == 0) & (df['on_2b'] == 0) & (df['on_3b'] == 0)]\n",
    "on_1b = df[(df['on_1b'] == 1) & (df['on_2b'] == 0) & (df['on_3b'] == 0)]\n",
    "on_2b = df[(df['on_1b'] == 0) & (df['on_2b'] == 1) & (df['on_3b'] == 0)]\n",
    "on_3b = df[(df['on_1b'] == 0) & (df['on_2b'] == 0) & (df['on_3b'] == 1)]\n",
    "on_1b2b = df[(df['on_1b'] == 1) & (df['on_2b'] == 1) & (df['on_3b'] == 0)]\n",
    "on_1b3b = df[(df['on_1b'] == 1) & (df['on_2b'] == 0) & (df['on_3b'] == 1)]\n",
    "on_2b3b = df[(df['on_1b'] == 0) & (df['on_2b'] == 1) & (df['on_3b'] == 1)]\n",
    "bases_loaded = df[(df['on_1b'] == 1) & (df['on_2b'] == 1) & (df['on_3b'] == 1)]"
   ]
  },
  {
   "cell_type": "code",
   "execution_count": 22,
   "metadata": {
    "colab": {
     "base_uri": "https://localhost:8080/"
    },
    "id": "lZb04p_bI-lj",
    "outputId": "b9948777-ec5e-4e0e-c4cc-25589e78767f"
   },
   "outputs": [
    {
     "data": {
      "text/plain": [
       "[0.5308722325178434,\n",
       " 0.5460058961258093,\n",
       " 0.4785657024063481,\n",
       " 0.4821360596008483,\n",
       " 0.505191302355612,\n",
       " 0.5012471291334305,\n",
       " 0.44559380780489555,\n",
       " 0.5272290196320153]"
      ]
     },
     "execution_count": 22,
     "metadata": {},
     "output_type": "execute_result"
    }
   ],
   "source": [
    "# Calculating the fastball percentage for every scenario\n",
    "runners_list = [no_runners, on_1b, on_2b, on_3b, on_1b2b, on_1b3b, on_2b3b, bases_loaded]\n",
    "runners_data = []\n",
    "for i in range(len(runners_list)):\n",
    "    runners_data.append(np.sum(runners_list[i]['fastball']) / len(runners_list[i]))\n",
    "\n",
    "runners_data"
   ]
  },
  {
   "cell_type": "code",
   "execution_count": 23,
   "metadata": {
    "colab": {
     "base_uri": "https://localhost:8080/",
     "height": 301
    },
    "id": "QSdRZYq-I-lj",
    "outputId": "3f5f309b-e94f-49de-8ac7-5b404e587172"
   },
   "outputs": [
    {
     "data": {
      "image/png": "[encoded data removed]",
      "text/plain": [
       "<Figure size 1440x360 with 1 Axes>"
      ]
     },
     "metadata": {},
     "output_type": "display_data"
    }
   ],
   "source": [
    "_ = sns.set()\n",
    "_ = plt.figure(figsize=(20,5))\n",
    "_ = plt.plot(np.arange(len(runners_data)), runners_data, marker='o', linestyle='none', ms=9, mfc='white', mec='black')\n",
    "_ = plt.title('% of Fastballs - Runners on Base', size='large')\n",
    "_ = plt.xlabel('Runners On Base', size='large')\n",
    "_ = plt.ylabel('% of Fastballs', size='large')\n",
    "_ = plt.xticks(np.arange(len(runners_data)), ['None', '1b', '2b', '3b', '1b & 2b', '1b & 3b', '2b & 3b', 'Bases Loaded'], rotation=60)\n",
    "_ = plt.axhline(.5241, color='red', linestyle='--')\n",
    "_ = plt.ylim((.44, .55))"
   ]
  },
  {
   "cell_type": "code",
   "execution_count": 24,
   "metadata": {
    "colab": {
     "base_uri": "https://localhost:8080/"
    },
    "id": "Wq3Zr-5CI-lk",
    "outputId": "77ea0b41-6af5-4758-e7e3-c8fcab858527"
   },
   "outputs": [
    {
     "data": {
      "text/plain": [
       "[0.5581587618086542,\n",
       " 0.4834946481284122,\n",
       " 0.45932137412008955,\n",
       " 0.5469589195195731,\n",
       " 0.47945991157844425,\n",
       " 0.4376433792884699,\n",
       " 0.6451504818968405,\n",
       " 0.5571535115798645,\n",
       " 0.46801969351213957,\n",
       " 0.738356694342767,\n",
       " 0.706718940969191,\n",
       " 0.5847635777227438]"
      ]
     },
     "execution_count": 24,
     "metadata": {},
     "output_type": "execute_result"
    }
   ],
   "source": [
    "# Dividing the data based on batting count\n",
    "count_0_0 = df[(df['b_count'] == 0) & (df['s_count'] == 0)]\n",
    "count_0_1 = df[(df['b_count'] == 0) & (df['s_count'] == 1)]\n",
    "count_0_2 = df[(df['b_count'] == 0) & (df['s_count'] == 2)]\n",
    "count_1_0 = df[(df['b_count'] == 1) & (df['s_count'] == 0)]\n",
    "count_1_1 = df[(df['b_count'] == 1) & (df['s_count'] == 1)]\n",
    "count_1_2 = df[(df['b_count'] == 1) & (df['s_count'] == 2)]\n",
    "count_2_0 = df[(df['b_count'] == 2) & (df['s_count'] == 0)]\n",
    "count_2_1 = df[(df['b_count'] == 2) & (df['s_count'] == 1)]\n",
    "count_2_2 = df[(df['b_count'] == 2) & (df['s_count'] == 2)]\n",
    "count_3_0 = df[(df['b_count'] == 3) & (df['s_count'] == 0)]\n",
    "count_3_1 = df[(df['b_count'] == 3) & (df['s_count'] == 1)]\n",
    "count_3_2 = df[(df['b_count'] == 3) & (df['s_count'] == 2)]\n",
    "\n",
    "# Calculating the fastball percentage for every scenario\n",
    "count_list = [count_0_0, count_0_1, count_0_2, \n",
    "              count_1_0, count_1_1, count_1_2, \n",
    "              count_2_0, count_2_1, count_2_2, \n",
    "              count_3_0, count_3_1, count_3_2]\n",
    "count_data = []\n",
    "for i in range(len(count_list)):\n",
    "    count_data.append(np.sum(count_list[i]['fastball']) / len(count_list[i]))\n",
    "\n",
    "count_data"
   ]
  },
  {
   "cell_type": "code",
   "execution_count": 25,
   "metadata": {
    "colab": {
     "base_uri": "https://localhost:8080/",
     "height": 265
    },
    "id": "Zl6_Ln7PI-ll",
    "outputId": "b08a542f-63fe-45f5-b50f-396bc115442e",
    "scrolled": true
   },
   "outputs": [
    {
     "data": {
      "image/png": "[encoded data removed]",
      "text/plain": [
       "<Figure size 1440x360 with 1 Axes>"
      ]
     },
     "metadata": {},
     "output_type": "display_data"
    }
   ],
   "source": [
    "# Graphing the results\n",
    "_ = sns.set()\n",
    "_ = plt.figure(figsize=(20,5))\n",
    "_ = plt.plot(np.arange(len(count_data)), count_data, marker='o', linestyle='none', ms=9, mfc='white', mec='black')\n",
    "_ = plt.title('% of Fastballs - Batting Count', size='large')\n",
    "_ = plt.xlabel('Batting Count', size='large')\n",
    "_ = plt.ylabel('% of Fastballs', size='large')\n",
    "_ = plt.xticks(np.arange(len(count_data)), ['0-0', '0-1', '0-2', '1-0', '1-1', '1-2', '2-0', '2-1', '2-2', '3-0', '3-1', '3-2'], rotation=60)\n",
    "_ = plt.axhline(.5241, color='red', linestyle='--')\n",
    "_ = plt.ylim((.40, .75))"
   ]
  },
  {
   "cell_type": "code",
   "execution_count": 26,
   "metadata": {
    "colab": {
     "base_uri": "https://localhost:8080/"
    },
    "id": "Azm4jXHOI-ll",
    "outputId": "0616966f-27c6-460c-d91c-22d22e45358b"
   },
   "outputs": [
    {
     "name": "stdout",
     "output_type": "stream",
     "text": [
      "[0.5581587618086542, 0.5115976034808757, 0.5067390493890871, 0.5073973921882371, 0.5177821203570144, 0.5200341064589107, 0.5403591808300294]\n"
     ]
    }
   ],
   "source": [
    "# Dividing the data by pitch sequence\n",
    "pitch1 = df[df['pitch_num'] == 1]\n",
    "pitch2 = df[df['pitch_num'] == 2]\n",
    "pitch3 = df[df['pitch_num'] == 3]\n",
    "pitch4 = df[df['pitch_num'] == 4]\n",
    "pitch5 = df[df['pitch_num'] == 5]\n",
    "pitch6 = df[df['pitch_num'] == 6]\n",
    "pitchover = df[df['pitch_num'] > 6]\n",
    "\n",
    "# Calculating the fastball percentage for each pitch\n",
    "pitch_list = [pitch1, pitch2, pitch3, pitch4, pitch5, pitch6, pitchover]\n",
    "pitch_data = []\n",
    "for i in range(len(pitch_list)):\n",
    "    pitch_data.append(np.sum(pitch_list[i]['fastball']) / len(pitch_list[i]))\n",
    "\n",
    "    \n",
    "pitch_data"
   ]
  },
  {
   "cell_type": "code",
   "execution_count": 27,
   "metadata": {
    "colab": {
     "base_uri": "https://localhost:8080/",
     "height": 305
    },
    "id": "Gb48yuk4I-lm",
    "outputId": "4b5f578d-2faf-4376-81d0-1fe4adcd2890"
   },
   "outputs": [
    {
     "data": {
      "image/png": "[encoded data removed]",
      "text/plain": [
       "<Figure size 720x288 with 1 Axes>"
      ]
     },
     "metadata": {},
     "output_type": "display_data"
    }
   ],
   "source": [
    "# Graphing the results\n",
    "_ = sns.set()\n",
    "_ = plt.figure(figsize=(10,4))\n",
    "_ = plt.plot(np.arange(len(pitch_data)), pitch_data, marker='o', linestyle='none', ms=9, mfc='white', mec='black')\n",
    "_ = plt.title('% of Fastballs - # of Pitch in At-Bat', size='x-large')\n",
    "_ = plt.xlabel('Pitch Number')\n",
    "_ = plt.ylabel('% of Fastballs')\n",
    "_ = plt.xticks(np.arange(len(pitch_data)), ['1', '2', '3', '4', '5', '6', '>6'])\n",
    "_ = plt.axhline(.5241, color='red', linestyle='--')\n",
    "_ = plt.ylim((.49, .57))"
   ]
  },
  {
   "cell_type": "code",
   "execution_count": 28,
   "metadata": {
    "colab": {
     "base_uri": "https://localhost:8080/"
    },
    "id": "pQpWiCKTI-ln",
    "outputId": "5faa43aa-3d67-4679-9800-f2cbd046e7d5"
   },
   "outputs": [
    {
     "name": "stdout",
     "output_type": "stream",
     "text": [
      "[0.5860303627748419, 0.5460199358191576, 0.5173299506481376, 0.49899914212181873, 0.5007393475376719, 0.4981620405101275, 0.5134705486023355, 0.521698180212396, 0.5391509491820639, 0.5006379728636895]\n"
     ]
    }
   ],
   "source": [
    "# Dividing the data by inning\n",
    "first_inn = df[df['inning'] == 1]\n",
    "second_inn = df[df['inning'] == 2]\n",
    "third_inn = df[df['inning'] == 3]\n",
    "fourth_inn = df[df['inning'] == 4]\n",
    "fifth_inn = df[df['inning'] == 5]\n",
    "sixth_inn = df[df['inning'] == 6]\n",
    "seventh_inn = df[df['inning'] == 7]\n",
    "eighth_inn = df[df['inning'] == 8]\n",
    "ninth_inn = df[df['inning'] == 9]\n",
    "extra_inn = df[df['inning'] > 9]\n",
    "\n",
    "# Calculating the fastball percentage for each inning\n",
    "inning_list = [first_inn, second_inn, third_inn, \n",
    "               fourth_inn, fifth_inn, sixth_inn, \n",
    "               seventh_inn, eighth_inn, ninth_inn, extra_inn]\n",
    "inning_data = []\n",
    "for i in range(len(inning_list)):\n",
    "    inning_data.append(np.sum(inning_list[i]['fastball']) / len(inning_list[i]))\n",
    "\n",
    "inning_data"
   ]
  },
  {
   "cell_type": "code",
   "execution_count": 29,
   "metadata": {
    "colab": {
     "base_uri": "https://localhost:8080/",
     "height": 305
    },
    "id": "uwlpldtRI-ln",
    "outputId": "6b2756b7-239e-4e58-d543-e94dd8189d95"
   },
   "outputs": [
    {
     "data": {
      "image/png": "[encoded data removed]",
      "text/plain": [
       "<Figure size 720x288 with 1 Axes>"
      ]
     },
     "metadata": {},
     "output_type": "display_data"
    }
   ],
   "source": [
    "# Graphing the results\n",
    "_ = sns.set()\n",
    "_ = plt.figure(figsize=(10,4))\n",
    "_ = plt.plot(np.arange(len(inning_data)), inning_data, marker='o', linestyle='none', ms=9, mfc='white', mec='black')\n",
    "_ = plt.title('% of Fastballs - Inning', size='x-large')\n",
    "_ = plt.xlabel('Inning')\n",
    "_ = plt.ylabel('% of Fastballs')\n",
    "_ = plt.xticks(np.arange(len(inning_data)), ['1', '2', '3', '4', '5', '6', '7', '8', '9', 'extra'])\n",
    "_ = plt.axhline(.5241, color='red', linestyle='--')\n",
    "_ = plt.ylim((.48, .60))"
   ]
  },
  {
   "cell_type": "code",
   "execution_count": 30,
   "metadata": {
    "colab": {
     "base_uri": "https://localhost:8080/"
    },
    "id": "KR6ZGWdWI-lo",
    "outputId": "653d8a5f-fb06-4fa4-e8bc-c4b31003b29f"
   },
   "outputs": [
    {
     "data": {
      "text/plain": [
       "[0.5271091095439215,\n",
       " 0.5096706449454218,\n",
       " 0.5327840292077282,\n",
       " 0.5056976251450891]"
      ]
     },
     "execution_count": 30,
     "metadata": {},
     "output_type": "execute_result"
    }
   ],
   "source": [
    "# Dividing the data based on pitcher and batter handedness\n",
    "RvR = df[(df['p_throws'] == 'R') & (df['stand'] == 'R')]\n",
    "LvR = df[(df['p_throws'] == 'L') & (df['stand'] == 'R')]\n",
    "RvL = df[(df['p_throws'] == 'R') & (df['stand'] == 'L')]\n",
    "LvL = df[(df['p_throws'] == 'L') & (df['stand'] == 'L')]\n",
    "\n",
    "# Calculate the fastball percentage for each circumstance\n",
    "PvB_list = [RvR, LvR, RvL, LvL]\n",
    "PvB_data = []\n",
    "\n",
    "for i in range(len(PvB_list)):\n",
    "    PvB_data.append(np.sum(PvB_list[i]['fastball']) / len(PvB_list[i]))\n",
    "\n",
    "PvB_data"
   ]
  },
  {
   "cell_type": "code",
   "execution_count": 31,
   "metadata": {
    "colab": {
     "base_uri": "https://localhost:8080/",
     "height": 305
    },
    "id": "b9DgwquMI-lo",
    "outputId": "0d1efb34-1cfc-4081-e54e-a522b77fd97e"
   },
   "outputs": [
    {
     "data": {
      "image/png": "[encoded data removed]",
      "text/plain": [
       "<Figure size 432x288 with 1 Axes>"
      ]
     },
     "metadata": {},
     "output_type": "display_data"
    }
   ],
   "source": [
    "# Graphing the results\n",
    "_ = sns.set()\n",
    "_ = plt.figure(figsize=(6,4))\n",
    "_ = plt.plot(np.arange(len(PvB_data)), PvB_data, marker='o', linestyle='none', ms=9, mfc='white', mec='black')\n",
    "_ = plt.title('% of Fastballs - Pitcher v. Batter', size='x-large')\n",
    "_ = plt.xlabel('Pitcher Hand (1st) v. Batter Hand (2nd)')\n",
    "_ = plt.ylabel('% of Fastballs')\n",
    "_ = plt.xticks(np.arange(len(PvB_data)), ['R v R', 'L v R', 'R v L', 'L v L'])\n",
    "_ = plt.axhline(.5241, color='red', linestyle='--')\n",
    "_ = plt.ylim((.49, .55))"
   ]
  },
  {
   "cell_type": "code",
   "execution_count": 32,
   "metadata": {
    "colab": {
     "base_uri": "https://localhost:8080/"
    },
    "id": "-wfZPMaeI-lp",
    "outputId": "ac22bd23-14fd-45db-9747-83cc4f8e24c8"
   },
   "outputs": [
    {
     "data": {
      "text/plain": [
       "[0.5438145509233508, 0.5198421343436735, 0.5076118044025494]"
      ]
     },
     "execution_count": 32,
     "metadata": {},
     "output_type": "execute_result"
    }
   ],
   "source": [
    "# Dividing the data based on number of outs\n",
    "no_outs = df[df['outs'] == 0]\n",
    "one_outs = df[df['outs'] == 1]\n",
    "two_outs = df[df['outs'] == 2]\n",
    "\n",
    "# Calculating the fastball percentages for every scenario\n",
    "outs_list = [no_outs, one_outs, two_outs]\n",
    "outs_data = []\n",
    "for i in range(len(outs_list)):\n",
    "    outs_data.append(np.sum(outs_list[i]['fastball']) / len(outs_list[i]))\n",
    "    \n",
    "outs_data"
   ]
  },
  {
   "cell_type": "code",
   "execution_count": 33,
   "metadata": {
    "colab": {
     "base_uri": "https://localhost:8080/",
     "height": 358
    },
    "id": "9PpCEZpcI-lq",
    "outputId": "f56e090b-3321-49a8-8579-7fb6c4df4c9c"
   },
   "outputs": [
    {
     "data": {
      "image/png": "[encoded data removed]",
      "text/plain": [
       "<Figure size 720x360 with 1 Axes>"
      ]
     },
     "metadata": {},
     "output_type": "display_data"
    }
   ],
   "source": [
    "_ = sns.set()\n",
    "_ = plt.figure(figsize=(10,5))\n",
    "_ = plt.plot(np.arange(len(outs_data)), outs_data, marker='o', linestyle='none', ms=9, mfc='white', mec='black')\n",
    "_ = plt.title('% of Fastballs - Number of Outs', size='x-large')\n",
    "_ = plt.xlabel('Number of Outs')\n",
    "_ = plt.ylabel('% of Fastballs')\n",
    "_ = plt.xticks(np.arange(len(outs_data)), ['0', '1', '2'])\n",
    "_ = plt.axhline(.5241, color='red', linestyle='--')\n",
    "_ = plt.ylim((.48, .58))"
   ]
  },
  {
   "cell_type": "code",
   "execution_count": 34,
   "metadata": {
    "id": "TfOMPjN4I-lq"
   },
   "outputs": [
    {
     "data": {
      "text/plain": [
       "[0.5555589803655642,\n",
       " 0.5426627988396518,\n",
       " 0.5377978767760352,\n",
       " 0.5354984894259819,\n",
       " 0.5335493081484736,\n",
       " 0.5354326508476988,\n",
       " 0.5335377777225971,\n",
       " 0.528500567840203,\n",
       " 0.5258550247592648,\n",
       " 0.5412263621705807,\n",
       " 0.5092101781555219,\n",
       " 0.5001447486057303,\n",
       " 0.4962938739917157,\n",
       " 0.5025579934988179,\n",
       " 0.5109248219317747,\n",
       " 0.5014845094664372,\n",
       " 0.5092047252044559,\n",
       " 0.5014702679154868,\n",
       " 0.5111321185252795]"
      ]
     },
     "execution_count": 34,
     "metadata": {},
     "output_type": "execute_result"
    }
   ],
   "source": [
    "# Dividing the data based on game score\n",
    "tie = df[(df['p_score'] - df['b_score']) == 0]\n",
    "pitcher1 = df[(df['p_score'] - df['b_score']) == 1]\n",
    "pitcher2 = df[(df['p_score'] - df['b_score']) == 2]\n",
    "pitcher3 = df[(df['p_score'] - df['b_score']) == 3]\n",
    "pitcher4 = df[(df['p_score'] - df['b_score']) == 4]\n",
    "pitcher5 = df[(df['p_score'] - df['b_score']) == 5]\n",
    "pitcher6 = df[(df['p_score'] - df['b_score']) == 6]\n",
    "pitcher7 = df[(df['p_score'] - df['b_score']) == 7]\n",
    "pitcher8 = df[(df['p_score'] - df['b_score']) == 8]\n",
    "pitcherplus = df[(df['p_score'] - df['b_score']) > 8]\n",
    "batter1 = df[(df['b_score'] - df['p_score']) == 1]\n",
    "batter2 = df[(df['b_score'] - df['p_score']) == 2]\n",
    "batter3 = df[(df['b_score'] - df['p_score']) == 3]\n",
    "batter4 = df[(df['b_score'] - df['p_score']) == 4]\n",
    "batter5 = df[(df['b_score'] - df['p_score']) == 5]\n",
    "batter6 = df[(df['b_score'] - df['p_score']) == 6]\n",
    "batter7 = df[(df['b_score'] - df['p_score']) == 7]\n",
    "batter8 = df[(df['b_score'] - df['p_score']) == 8]\n",
    "batterplus = df[(df['b_score'] - df['p_score']) > 8]\n",
    "\n",
    "# Calculating the fastball percentage for each score\n",
    "score_list = [pitcherplus, pitcher8, pitcher7, \n",
    "              pitcher6, pitcher5, pitcher4, \n",
    "              pitcher3, pitcher2, pitcher1, \n",
    "              tie, batter1, batter2, batter3,\n",
    "              batter4, batter5, batter6, batter7, \n",
    "              batter8, batterplus]\n",
    "score_data = []\n",
    "for i in range(len(score_list)):\n",
    "    score_data.append(np.sum(score_list[i]['fastball']) / len(score_list[i]))\n",
    "\n",
    "    \n",
    "score_data"
   ]
  },
  {
   "cell_type": "code",
   "execution_count": 35,
   "metadata": {
    "id": "J9zDbT0tI-lr"
   },
   "outputs": [
    {
     "data": {
      "image/png": "[encoded data removed]",
      "text/plain": [
       "<Figure size 1008x288 with 1 Axes>"
      ]
     },
     "metadata": {},
     "output_type": "display_data"
    }
   ],
   "source": [
    "# Graphing the results\n",
    "_ = sns.set()\n",
    "_ = plt.figure(figsize=(14,4))\n",
    "_ = plt.plot(np.arange(len(score_data)), score_data, marker='o', linestyle='none', ms=9, mfc='white', mec='black')\n",
    "_ = plt.title('% of Fastballs - Game Score', size='x-large')\n",
    "_ = plt.xlabel('Game Score (P for pitching team, B for batting team)')\n",
    "_ = plt.ylabel('% of Fastballs')\n",
    "_ = plt.xticks(np.arange(len(score_data)), ['P+>8', 'P+8', 'P+7', 'P+6', 'P+5', 'P+4', 'P+3', 'P+2', 'P+1', 'Tie', 'B+1', 'B+2', 'B+3', 'B+4', 'B+5', 'B+6', 'B+7', 'B+8', 'B+>8'])\n",
    "_ = plt.axhline(.5241, color='red', linestyle='--')\n",
    "_ = plt.ylim((.48, .57))"
   ]
  },
  {
   "cell_type": "markdown",
   "metadata": {},
   "source": [
    "# CONTINUOUS CATEGORIES"
   ]
  },
  {
   "cell_type": "code",
   "execution_count": 43,
   "metadata": {
    "id": "_2-_6ua3I-ls"
   },
   "outputs": [],
   "source": [
    "def ecdf(data):\n",
    "    x=np.sort(data)\n",
    "    y=np.arange(1, len(x) + 1) / len(x)\n",
    "    return x, y\n",
    "\n",
    "def graph_ecdf(variable, x_label, graph_title):\n",
    "    _ = plt.xlabel('{}'.format(x_label))\n",
    "    _ = plt.ylabel('ECDF')\n",
    "    _ = plt.title('{}'.format(graph_title), size='large')\n",
    "\n",
    "    x_fast, y_fast = ecdf(fastball['{}'.format(variable)])\n",
    "    _ = plt.plot(x_fast, y_fast, marker='.', linestyle='none', label='fastballs')\n",
    "\n",
    "    x_nofast, y_nofast = ecdf(nonfastball['{}'.format(variable)])\n",
    "    _ = plt.plot(x_nofast, y_nofast, marker='.', linestyle='none', label='non-fastballs')\n",
    "\n",
    "    _ = plt.legend()\n",
    "\n",
    "def calculate_stats(df_fastball, df_nofastball):\n",
    "    df_fastball_mean = np.mean(df_fastball)\n",
    "    df_fastball_median = np.nanmedian(df_fastball)\n",
    "    df_fastball_std = np.std(df_fastball)\n",
    "    print(\"fastballs mean = {}\".format(df_fastball_mean))\n",
    "    print('fastballs median = {}'.format(df_fastball_median))\n",
    "    print('fastballs std = {}'.format(df_fastball_std))\n",
    "\n",
    "    df_nofastball_mean = np.mean(df_nofastball)\n",
    "    df_nofastball_median = np.nanmedian(df_nofastball)\n",
    "    df_nofastball_std = np.std(df_nofastball)\n",
    "    print(\"non-fastballs mean = {}\".format(df_nofastball_mean))\n",
    "    print('non-fastballs median = {}'.format(df_nofastball_median))\n",
    "    print('non-fastballs std = {}'.format(df_nofastball_std))\n",
    "\n"
   ]
  },
  {
   "cell_type": "code",
   "execution_count": 44,
   "metadata": {
    "id": "kKx34Y3jI-lu"
   },
   "outputs": [
    {
     "data": {
      "text/plain": [
       "<Figure size 1008x288 with 0 Axes>"
      ]
     },
     "metadata": {},
     "output_type": "display_data"
    },
    {
     "data": {
      "image/png": "[encoded data removed]",
      "text/plain": [
       "<Figure size 432x288 with 1 Axes>"
      ]
     },
     "metadata": {},
     "output_type": "display_data"
    }
   ],
   "source": [
    "_ = sns.set()\n",
    "_ = plt.figure(figsize=(14,4))\n",
    "_ = df[['fastball', 'start_speed']].boxplot(by = 'fastball', showfliers=False).set_xticklabels(['non-fastballs', 'fastballs'])\n",
    "_ = plt.title('Starting Speed (in MPH) of Fastballs v. Non-Fastballs', size='large')\n",
    "_ = plt.xlabel(None)\n",
    "_ = plt.ylabel(None)\n",
    "_ = plt.suptitle(None)\n",
    "_ = plt.ylim((60, 105))"
   ]
  },
  {
   "cell_type": "code",
   "execution_count": 45,
   "metadata": {
    "id": "PnEhFP1GI-lv"
   },
   "outputs": [
    {
     "name": "stdout",
     "output_type": "stream",
     "text": [
      "fastballs mean = 92.25206255719404\n",
      "fastballs median = 92.4\n",
      "fastballs std = 3.11328251465449\n",
      "non-fastballs mean = 84.11867982254473\n",
      "non-fastballs median = 84.2\n",
      "non-fastballs std = 5.50625663309324\n"
     ]
    }
   ],
   "source": [
    "calculate_stats(fastball['start_speed'], nonfastball['start_speed'])"
   ]
  },
  {
   "cell_type": "code",
   "execution_count": 46,
   "metadata": {
    "id": "UMMvFIKQI-lw"
   },
   "outputs": [
    {
     "data": {
      "image/png": "[encoded data removed]",
      "text/plain": [
       "<Figure size 432x288 with 1 Axes>"
      ]
     },
     "metadata": {},
     "output_type": "display_data"
    }
   ],
   "source": [
    "# Comparing the Empirical Cumulative Distribution Function (ECDF) for each of the datasets\n",
    "graph_ecdf('start_speed', 'Pitch Speed (in MPH)', 'Starting Pitch Speed ECDFs')"
   ]
  },
  {
   "cell_type": "code",
   "execution_count": 47,
   "metadata": {
    "id": "BZEd1mA9I-lw"
   },
   "outputs": [
    {
     "data": {
      "text/plain": [
       "<Figure size 1008x288 with 0 Axes>"
      ]
     },
     "metadata": {},
     "output_type": "display_data"
    },
    {
     "data": {
      "image/png": "[encoded data removed]",
      "text/plain": [
       "<Figure size 432x288 with 1 Axes>"
      ]
     },
     "metadata": {},
     "output_type": "display_data"
    }
   ],
   "source": [
    "_ = sns.set()\n",
    "_ = plt.figure(figsize=(14,4))\n",
    "_ = df[['fastball', 'end_speed']].boxplot(by = 'fastball', showfliers=False).set_xticklabels(['non-fastballs', 'fastballs'])\n",
    "_ = plt.title('Ending Speed (in MPH) of Fastballs v. Non-Fastballs', size='large')\n",
    "_ = plt.xlabel(None)\n",
    "_ = plt.ylabel(None)\n",
    "_ = plt.suptitle(None)\n",
    "_ = plt.ylim((60, 105))"
   ]
  },
  {
   "cell_type": "code",
   "execution_count": 48,
   "metadata": {
    "id": "5dX06pZTI-lw"
   },
   "outputs": [
    {
     "name": "stdout",
     "output_type": "stream",
     "text": [
      "fastballs mean = 84.71384437234832\n",
      "fastballs median = 84.9\n",
      "fastballs std = 2.797589348974308\n",
      "non-fastballs mean = 77.67250038841352\n",
      "non-fastballs median = 77.9\n",
      "non-fastballs std = 5.055458836390654\n"
     ]
    }
   ],
   "source": [
    "# Calculating mean/median/std of each dataset\n",
    "calculate_stats(fastball['end_speed'], nonfastball['end_speed'])"
   ]
  },
  {
   "cell_type": "code",
   "execution_count": 49,
   "metadata": {
    "id": "ULfC6fRXI-lx"
   },
   "outputs": [
    {
     "data": {
      "image/png": "[encoded data removed]",
      "text/plain": [
       "<Figure size 432x288 with 1 Axes>"
      ]
     },
     "metadata": {},
     "output_type": "display_data"
    }
   ],
   "source": [
    "# Comparing the Empirical Cumulative Distribution Function (ECDF) for each of the datasets\n",
    "graph_ecdf('end_speed', 'Pitch Speed (in MPH)', 'Ending Pitch Speed ECDFs')"
   ]
  },
  {
   "cell_type": "code",
   "execution_count": 50,
   "metadata": {
    "id": "UHtQbaWeI-ly"
   },
   "outputs": [
    {
     "data": {
      "text/plain": [
       "<Figure size 1008x288 with 0 Axes>"
      ]
     },
     "metadata": {},
     "output_type": "display_data"
    },
    {
     "data": {
      "image/png": "[encoded data removed]",
      "text/plain": [
       "<Figure size 432x288 with 1 Axes>"
      ]
     },
     "metadata": {},
     "output_type": "display_data"
    }
   ],
   "source": [
    "_ = sns.set()\n",
    "_ = plt.figure(figsize=(14,4))\n",
    "_ = df[['fastball', 'break_length']].boxplot(by = 'fastball', showfliers=False).set_xticklabels(['non-fastballs', 'fastballs'])\n",
    "_ = plt.title('Break Length (in Inches) of Fastballs v. Non-Fastballs', size='large')\n",
    "_ = plt.xlabel(None)\n",
    "_ = plt.ylabel(None)\n",
    "_ = plt.suptitle(None)"
   ]
  },
  {
   "cell_type": "code",
   "execution_count": 51,
   "metadata": {
    "id": "5F0A8p5cI-l0"
   },
   "outputs": [
    {
     "name": "stdout",
     "output_type": "stream",
     "text": [
      "fastballs mean = 4.756384460527452\n",
      "fastballs median = 4.4\n",
      "fastballs std = 183.4618732709462\n",
      "non-fastballs mean = 8.633262908200624\n",
      "non-fastballs median = 8.1\n",
      "non-fastballs std = 2.605044845455731\n"
     ]
    }
   ],
   "source": [
    "# Calculating mean/median/std of each dataset\n",
    "calculate_stats(fastball['break_length'], nonfastball['break_length'])"
   ]
  },
  {
   "cell_type": "code",
   "execution_count": 56,
   "metadata": {
    "id": "YuL_GQVXI-l0"
   },
   "outputs": [
    {
     "data": {
      "image/png": "[encoded data removed]",
      "text/plain": [
       "<Figure size 432x288 with 1 Axes>"
      ]
     },
     "metadata": {},
     "output_type": "display_data"
    }
   ],
   "source": [
    "# Comparing the Empirical Cumulative Distribution Function (ECDF) for each of the datasets\n",
    "graph_ecdf('break_length', 'Pitch Break Length (in Inches)', 'Pitch Break Lengths ECDFs')"
   ]
  },
  {
   "cell_type": "code",
   "execution_count": 57,
   "metadata": {
    "id": "wukuPfPiI-l0"
   },
   "outputs": [
    {
     "data": {
      "text/plain": [
       "<Figure size 1008x288 with 0 Axes>"
      ]
     },
     "metadata": {},
     "output_type": "display_data"
    },
    {
     "data": {
      "image/png": "[encoded data removed]",
      "text/plain": [
       "<Figure size 432x288 with 1 Axes>"
      ]
     },
     "metadata": {},
     "output_type": "display_data"
    }
   ],
   "source": [
    "_ = sns.set()\n",
    "_ = plt.figure(figsize=(14,4))\n",
    "_ = df[['fastball', 'break_angle']].boxplot(by = 'fastball', showfliers=False).set_xticklabels(['non-fastballs', 'fastballs'])\n",
    "_ = plt.title('Break Angle (in Degrees) of Fastballs v. Non-Fastballs', size = 'large')\n",
    "_ = plt.xlabel(None)\n",
    "_ = plt.ylabel(None)\n",
    "_ = plt.suptitle(None)"
   ]
  },
  {
   "cell_type": "code",
   "execution_count": 58,
   "metadata": {
    "id": "ofdLFKcPI-l0"
   },
   "outputs": [
    {
     "name": "stdout",
     "output_type": "stream",
     "text": [
      "fastballs mean = 10.45212198652352\n",
      "fastballs median = 18.7\n",
      "fastballs std = 27.007275234565984\n",
      "non-fastballs mean = 0.7780986454054518\n",
      "non-fastballs median = -2.7\n",
      "non-fastballs std = 19.905312918935554\n"
     ]
    }
   ],
   "source": [
    "# Calculating mean/median/std of each dataset\n",
    "calculate_stats(fastball['break_angle'], nonfastball['break_angle'])"
   ]
  },
  {
   "cell_type": "code",
   "execution_count": 60,
   "metadata": {
    "id": "5zmatB8AM-Vm"
   },
   "outputs": [
    {
     "data": {
      "image/png": "[encoded data removed]",
      "text/plain": [
       "<Figure size 432x288 with 1 Axes>"
      ]
     },
     "metadata": {},
     "output_type": "display_data"
    }
   ],
   "source": [
    "# Comparing the Empirical Cumulative Distribution Function (ECDF) for each of the datasets\n",
    "graph_ecdf('break_angle', 'Pitch Break Angle (in Degrees)', 'Pitch Break Angles ECDFs')"
   ]
  },
  {
   "cell_type": "code",
   "execution_count": 61,
   "metadata": {
    "id": "FYo92NsoM_90"
   },
   "outputs": [
    {
     "data": {
      "text/plain": [
       "<Figure size 1008x288 with 0 Axes>"
      ]
     },
     "metadata": {},
     "output_type": "display_data"
    },
    {
     "data": {
      "image/png": "[encoded data removed]",
      "text/plain": [
       "<Figure size 432x288 with 1 Axes>"
      ]
     },
     "metadata": {},
     "output_type": "display_data"
    }
   ],
   "source": [
    "_ = sns.set()\n",
    "_ = plt.figure(figsize=(14,4))\n",
    "_ = df[['fastball', 'px']].boxplot(by = 'fastball', showfliers=False).set_xticklabels(['non-fastballs', 'fastballs'])\n",
    "_ = plt.title('Horizonal Location of Fastballs v. Non-Fastballs', size='large')\n",
    "_ = plt.xlabel(None)\n",
    "_ = plt.ylabel(None)\n",
    "_ = plt.suptitle(None)"
   ]
  },
  {
   "cell_type": "code",
   "execution_count": 62,
   "metadata": {
    "id": "mgytU58TNEJU"
   },
   "outputs": [
    {
     "name": "stdout",
     "output_type": "stream",
     "text": [
      "fastballs mean = -0.022860386603382302\n",
      "fastballs median = -0.018000000000000002\n",
      "fastballs std = 0.8454361958487273\n",
      "non-fastballs mean = 0.038984121060254846\n",
      "non-fastballs median = 0.036869242093462005\n",
      "non-fastballs std = 0.9366266454685996\n"
     ]
    }
   ],
   "source": [
    "# Calculating mean/median/std of each dataset\n",
    "calculate_stats(fastball['px'], nonfastball['px'])"
   ]
  },
  {
   "cell_type": "code",
   "execution_count": 63,
   "metadata": {
    "id": "dscxNXaWNKox"
   },
   "outputs": [
    {
     "data": {
      "image/png": "[encoded data removed]",
      "text/plain": [
       "<Figure size 432x288 with 1 Axes>"
      ]
     },
     "metadata": {},
     "output_type": "display_data"
    }
   ],
   "source": [
    "# Comparing the Empirical Cumulative Distribution Function (ECDF) for each of the datasets\n",
    "graph_ecdf('px', 'Horizontal Pitch Location (0 - Middle of Plate)', 'Horizontal Pitch Locations ECDFs')"
   ]
  },
  {
   "cell_type": "code",
   "execution_count": 64,
   "metadata": {
    "id": "wqzDoQCMNSnf"
   },
   "outputs": [
    {
     "data": {
      "text/plain": [
       "<Figure size 1008x288 with 0 Axes>"
      ]
     },
     "metadata": {},
     "output_type": "display_data"
    },
    {
     "data": {
      "image/png": "[encoded data removed]",
      "text/plain": [
       "<Figure size 432x288 with 1 Axes>"
      ]
     },
     "metadata": {},
     "output_type": "display_data"
    }
   ],
   "source": [
    "_ = sns.set()\n",
    "_ = plt.figure(figsize=(14,4))\n",
    "_ = df[['fastball', 'pz']].boxplot(by = 'fastball', showfliers=False).set_xticklabels(['non-fastballs', 'fastballs'])\n",
    "_ = plt.title('Vertical Location of Fastballs v. Non-Fastballs', size='large')\n",
    "_ = plt.xlabel(None)\n",
    "_ = plt.ylabel(None)\n",
    "_ = plt.suptitle(None)"
   ]
  },
  {
   "cell_type": "code",
   "execution_count": 65,
   "metadata": {
    "id": "8o3vr0ELNbWw"
   },
   "outputs": [
    {
     "name": "stdout",
     "output_type": "stream",
     "text": [
      "fastballs mean = 2.5134159513717673\n",
      "fastballs median = 2.49405650167963\n",
      "fastballs std = 0.8512417854117292\n",
      "non-fastballs mean = 1.9703519695156864\n",
      "non-fastballs median = 1.9809999999999999\n",
      "non-fastballs std = 0.9592480144938684\n"
     ]
    }
   ],
   "source": [
    "# Calculating mean/median/std of each dataset\n",
    "calculate_stats(fastball['pz'], nonfastball['pz'])"
   ]
  },
  {
   "cell_type": "code",
   "execution_count": 66,
   "metadata": {
    "id": "LytjSemHNhzS"
   },
   "outputs": [
    {
     "data": {
      "image/png": "[encoded data removed]",
      "text/plain": [
       "<Figure size 432x288 with 1 Axes>"
      ]
     },
     "metadata": {},
     "output_type": "display_data"
    }
   ],
   "source": [
    "# Comparing the Empirical Cumulative Distribution Function (ECDF) for each of the datasets\n",
    "graph_ecdf('pz', 'Vertical Pitch Location (0 = Ground)', 'Vertical Pitch Locations ECDFs')"
   ]
  },
  {
   "cell_type": "code",
   "execution_count": 67,
   "metadata": {
    "id": "49VY4PX1Nlsw"
   },
   "outputs": [
    {
     "data": {
      "text/plain": [
       "<Figure size 1008x288 with 0 Axes>"
      ]
     },
     "metadata": {},
     "output_type": "display_data"
    },
    {
     "data": {
      "image/png": "[encoded data removed]",
      "text/plain": [
       "<Figure size 432x288 with 1 Axes>"
      ]
     },
     "metadata": {},
     "output_type": "display_data"
    }
   ],
   "source": [
    "_ = sns.set()\n",
    "_ = plt.figure(figsize=(14,4))\n",
    "_ = df[['fastball', 'spin_rate']].boxplot(by = 'fastball', showfliers=False).set_xticklabels(['non-fastballs', 'fastballs'])\n",
    "_ = plt.title('Spin Rate (in RPMs) of Fastballs v. Non-Fastballs', size='large')\n",
    "_ = plt.xlabel(None)\n",
    "_ = plt.ylabel(None)\n",
    "_ = plt.suptitle(None)"
   ]
  },
  {
   "cell_type": "code",
   "execution_count": 68,
   "metadata": {
    "id": "Du-SPAq8NpP0"
   },
   "outputs": [
    {
     "name": "stdout",
     "output_type": "stream",
     "text": [
      "fastballs mean = 2061.3367711085334\n",
      "fastballs median = 2135.988\n",
      "fastballs std = 515.2404345728222\n",
      "non-fastballs mean = 1367.5950509003708\n",
      "non-fastballs median = 1389.049\n",
      "non-fastballs std = 655.7903614495049\n"
     ]
    }
   ],
   "source": [
    "# Calculating mean/median/std of each dataset\n",
    "calculate_stats(fastball['spin_rate'], nonfastball['spin_rate'])"
   ]
  },
  {
   "cell_type": "code",
   "execution_count": 69,
   "metadata": {
    "id": "_3V2bHzDNsoH"
   },
   "outputs": [
    {
     "data": {
      "image/png": "[encoded data removed]",
      "text/plain": [
       "<Figure size 432x288 with 1 Axes>"
      ]
     },
     "metadata": {},
     "output_type": "display_data"
    }
   ],
   "source": [
    "# Comparing the Empirical Cumulative Distribution Function (ECDF) for each of the datasets\n",
    "graph_ecdf('spin_rate', 'Pitch Spin Rate (in RPMs)', 'Pitch Spin Rates ECDFs')"
   ]
  },
  {
   "cell_type": "code",
   "execution_count": 70,
   "metadata": {
    "id": "Hw4Uh-u-NwYf"
   },
   "outputs": [
    {
     "data": {
      "text/plain": [
       "<Figure size 1008x288 with 0 Axes>"
      ]
     },
     "metadata": {},
     "output_type": "display_data"
    },
    {
     "data": {
      "image/png": "[encoded data removed]",
      "text/plain": [
       "<Figure size 432x288 with 1 Axes>"
      ]
     },
     "metadata": {},
     "output_type": "display_data"
    }
   ],
   "source": [
    "_ = sns.set()\n",
    "_ = plt.figure(figsize=(14,4))\n",
    "_ = df[['fastball', 'spin_dir']].boxplot(by = 'fastball', showfliers=False).set_xticklabels(['non-fastballs', 'fastballs'])\n",
    "_ = plt.title('Spin Direction (in Degrees) of Fastballs v. Non-Fastballs', size='large')\n",
    "_ = plt.xlabel(None)\n",
    "_ = plt.ylabel(None)\n",
    "_ = plt.suptitle(None)"
   ]
  },
  {
   "cell_type": "code",
   "execution_count": 71,
   "metadata": {
    "id": "-VFQF6UFN0Hx"
   },
   "outputs": [
    {
     "name": "stdout",
     "output_type": "stream",
     "text": [
      "fastballs mean = 191.99410063988805\n",
      "fastballs median = 200.666\n",
      "fastballs std = 35.92327752888884\n",
      "non-fastballs mean = 167.27701797628598\n",
      "non-fastballs median = 163.722\n",
      "non-fastballs std = 88.11822452126334\n"
     ]
    }
   ],
   "source": [
    "# Calculating mean/median/std of each dataset\n",
    "calculate_stats(fastball['spin_dir'], nonfastball['spin_dir'])"
   ]
  },
  {
   "cell_type": "code",
   "execution_count": 72,
   "metadata": {
    "id": "CTEWXC7uN7yd"
   },
   "outputs": [
    {
     "data": {
      "image/png": "[encoded data removed]",
      "text/plain": [
       "<Figure size 432x288 with 1 Axes>"
      ]
     },
     "metadata": {},
     "output_type": "display_data"
    }
   ],
   "source": [
    "# Comparing the Empirical Cumulative Distribution Function (ECDF) for each of the datasets\n",
    "graph_ecdf('spin_dir', 'Pitch Spin Direction (in Degrees)', 'Pitch Spin Directions ECDFs')"
   ]
  },
  {
   "cell_type": "markdown",
   "metadata": {},
   "source": [
    "# PRE-PROCESSING"
   ]
  },
  {
   "cell_type": "code",
   "execution_count": 73,
   "metadata": {
    "id": "76Gbl-HIOYAL"
   },
   "outputs": [
    {
     "data": {
      "text/html": [
       "<div>\n",
       "<style scoped>\n",
       "    .dataframe tbody tr th:only-of-type {\n",
       "        vertical-align: middle;\n",
       "    }\n",
       "\n",
       "    .dataframe tbody tr th {\n",
       "        vertical-align: top;\n",
       "    }\n",
       "\n",
       "    .dataframe thead th {\n",
       "        text-align: right;\n",
       "    }\n",
       "</style>\n",
       "<table border=\"1\" class=\"dataframe\">\n",
       "  <thead>\n",
       "    <tr style=\"text-align: right;\">\n",
       "      <th></th>\n",
       "      <th>ab_id</th>\n",
       "      <th>fastball</th>\n",
       "      <th>on_1b</th>\n",
       "      <th>on_2b</th>\n",
       "      <th>on_3b</th>\n",
       "    </tr>\n",
       "  </thead>\n",
       "  <tbody>\n",
       "    <tr>\n",
       "      <th>0</th>\n",
       "      <td>2.015000e+09</td>\n",
       "      <td>1</td>\n",
       "      <td>0.0</td>\n",
       "      <td>0.0</td>\n",
       "      <td>0.0</td>\n",
       "    </tr>\n",
       "    <tr>\n",
       "      <th>1</th>\n",
       "      <td>2.015000e+09</td>\n",
       "      <td>1</td>\n",
       "      <td>0.0</td>\n",
       "      <td>0.0</td>\n",
       "      <td>0.0</td>\n",
       "    </tr>\n",
       "    <tr>\n",
       "      <th>2</th>\n",
       "      <td>2.015000e+09</td>\n",
       "      <td>1</td>\n",
       "      <td>0.0</td>\n",
       "      <td>0.0</td>\n",
       "      <td>0.0</td>\n",
       "    </tr>\n",
       "    <tr>\n",
       "      <th>3</th>\n",
       "      <td>2.015000e+09</td>\n",
       "      <td>1</td>\n",
       "      <td>0.0</td>\n",
       "      <td>0.0</td>\n",
       "      <td>0.0</td>\n",
       "    </tr>\n",
       "    <tr>\n",
       "      <th>4</th>\n",
       "      <td>2.015000e+09</td>\n",
       "      <td>0</td>\n",
       "      <td>0.0</td>\n",
       "      <td>0.0</td>\n",
       "      <td>0.0</td>\n",
       "    </tr>\n",
       "    <tr>\n",
       "      <th>5</th>\n",
       "      <td>2.015000e+09</td>\n",
       "      <td>1</td>\n",
       "      <td>0.0</td>\n",
       "      <td>0.0</td>\n",
       "      <td>0.0</td>\n",
       "    </tr>\n",
       "    <tr>\n",
       "      <th>6</th>\n",
       "      <td>2.015000e+09</td>\n",
       "      <td>1</td>\n",
       "      <td>0.0</td>\n",
       "      <td>0.0</td>\n",
       "      <td>0.0</td>\n",
       "    </tr>\n",
       "    <tr>\n",
       "      <th>7</th>\n",
       "      <td>2.015000e+09</td>\n",
       "      <td>1</td>\n",
       "      <td>0.0</td>\n",
       "      <td>0.0</td>\n",
       "      <td>0.0</td>\n",
       "    </tr>\n",
       "    <tr>\n",
       "      <th>8</th>\n",
       "      <td>2.015000e+09</td>\n",
       "      <td>1</td>\n",
       "      <td>0.0</td>\n",
       "      <td>1.0</td>\n",
       "      <td>0.0</td>\n",
       "    </tr>\n",
       "    <tr>\n",
       "      <th>9</th>\n",
       "      <td>2.015000e+09</td>\n",
       "      <td>1</td>\n",
       "      <td>0.0</td>\n",
       "      <td>1.0</td>\n",
       "      <td>0.0</td>\n",
       "    </tr>\n",
       "  </tbody>\n",
       "</table>\n",
       "</div>"
      ],
      "text/plain": [
       "          ab_id  fastball  on_1b  on_2b  on_3b\n",
       "0  2.015000e+09         1    0.0    0.0    0.0\n",
       "1  2.015000e+09         1    0.0    0.0    0.0\n",
       "2  2.015000e+09         1    0.0    0.0    0.0\n",
       "3  2.015000e+09         1    0.0    0.0    0.0\n",
       "4  2.015000e+09         0    0.0    0.0    0.0\n",
       "5  2.015000e+09         1    0.0    0.0    0.0\n",
       "6  2.015000e+09         1    0.0    0.0    0.0\n",
       "7  2.015000e+09         1    0.0    0.0    0.0\n",
       "8  2.015000e+09         1    0.0    1.0    0.0\n",
       "9  2.015000e+09         1    0.0    1.0    0.0"
      ]
     },
     "execution_count": 73,
     "metadata": {},
     "output_type": "execute_result"
    }
   ],
   "source": [
    "df_model = df.loc[:, ['ab_id', 'fastball', 'on_1b', 'on_2b', 'on_3b']]\n",
    "\n",
    "df_model.head(10)"
   ]
  },
  {
   "cell_type": "code",
   "execution_count": 74,
   "metadata": {
    "id": "fGcaJ8bIO1dF"
   },
   "outputs": [
    {
     "data": {
      "text/html": [
       "<div>\n",
       "<style scoped>\n",
       "    .dataframe tbody tr th:only-of-type {\n",
       "        vertical-align: middle;\n",
       "    }\n",
       "\n",
       "    .dataframe tbody tr th {\n",
       "        vertical-align: top;\n",
       "    }\n",
       "\n",
       "    .dataframe thead th {\n",
       "        text-align: right;\n",
       "    }\n",
       "</style>\n",
       "<table border=\"1\" class=\"dataframe\">\n",
       "  <thead>\n",
       "    <tr style=\"text-align: right;\">\n",
       "      <th></th>\n",
       "      <th>ab_id</th>\n",
       "      <th>fastball</th>\n",
       "      <th>on_1b</th>\n",
       "      <th>on_2b</th>\n",
       "      <th>on_3b</th>\n",
       "      <th>p_throws_num</th>\n",
       "      <th>stand_num</th>\n",
       "      <th>top_num</th>\n",
       "    </tr>\n",
       "  </thead>\n",
       "  <tbody>\n",
       "    <tr>\n",
       "      <th>0</th>\n",
       "      <td>2.015000e+09</td>\n",
       "      <td>1</td>\n",
       "      <td>0.0</td>\n",
       "      <td>0.0</td>\n",
       "      <td>0.0</td>\n",
       "      <td>0</td>\n",
       "      <td>0</td>\n",
       "      <td>1</td>\n",
       "    </tr>\n",
       "    <tr>\n",
       "      <th>1</th>\n",
       "      <td>2.015000e+09</td>\n",
       "      <td>1</td>\n",
       "      <td>0.0</td>\n",
       "      <td>0.0</td>\n",
       "      <td>0.0</td>\n",
       "      <td>0</td>\n",
       "      <td>0</td>\n",
       "      <td>1</td>\n",
       "    </tr>\n",
       "    <tr>\n",
       "      <th>2</th>\n",
       "      <td>2.015000e+09</td>\n",
       "      <td>1</td>\n",
       "      <td>0.0</td>\n",
       "      <td>0.0</td>\n",
       "      <td>0.0</td>\n",
       "      <td>0</td>\n",
       "      <td>0</td>\n",
       "      <td>1</td>\n",
       "    </tr>\n",
       "    <tr>\n",
       "      <th>3</th>\n",
       "      <td>2.015000e+09</td>\n",
       "      <td>1</td>\n",
       "      <td>0.0</td>\n",
       "      <td>0.0</td>\n",
       "      <td>0.0</td>\n",
       "      <td>0</td>\n",
       "      <td>0</td>\n",
       "      <td>1</td>\n",
       "    </tr>\n",
       "    <tr>\n",
       "      <th>4</th>\n",
       "      <td>2.015000e+09</td>\n",
       "      <td>0</td>\n",
       "      <td>0.0</td>\n",
       "      <td>0.0</td>\n",
       "      <td>0.0</td>\n",
       "      <td>0</td>\n",
       "      <td>0</td>\n",
       "      <td>1</td>\n",
       "    </tr>\n",
       "  </tbody>\n",
       "</table>\n",
       "</div>"
      ],
      "text/plain": [
       "          ab_id  fastball  on_1b  on_2b  on_3b  p_throws_num  stand_num  \\\n",
       "0  2.015000e+09         1    0.0    0.0    0.0             0          0   \n",
       "1  2.015000e+09         1    0.0    0.0    0.0             0          0   \n",
       "2  2.015000e+09         1    0.0    0.0    0.0             0          0   \n",
       "3  2.015000e+09         1    0.0    0.0    0.0             0          0   \n",
       "4  2.015000e+09         0    0.0    0.0    0.0             0          0   \n",
       "\n",
       "   top_num  \n",
       "0        1  \n",
       "1        1  \n",
       "2        1  \n",
       "3        1  \n",
       "4        1  "
      ]
     },
     "execution_count": 74,
     "metadata": {},
     "output_type": "execute_result"
    }
   ],
   "source": [
    "df_model['p_throws_num'] = np.where(df.loc[:, 'p_throws'] == 'R', 1, 0)\n",
    "df_model['stand_num'] = np.where(df.loc[:, 'stand'] == 'R', 1, 0)\n",
    "df_model['top_num'] = np.where(df.loc[:, 'top'] == True, 1, 0)\n",
    "\n",
    "df_model.head()"
   ]
  },
  {
   "cell_type": "code",
   "execution_count": 75,
   "metadata": {
    "id": "9Z9NtBF-PAqt"
   },
   "outputs": [
    {
     "data": {
      "text/html": [
       "<div>\n",
       "<style scoped>\n",
       "    .dataframe tbody tr th:only-of-type {\n",
       "        vertical-align: middle;\n",
       "    }\n",
       "\n",
       "    .dataframe tbody tr th {\n",
       "        vertical-align: top;\n",
       "    }\n",
       "\n",
       "    .dataframe thead th {\n",
       "        text-align: right;\n",
       "    }\n",
       "</style>\n",
       "<table border=\"1\" class=\"dataframe\">\n",
       "  <thead>\n",
       "    <tr style=\"text-align: right;\">\n",
       "      <th></th>\n",
       "      <th>ab_id</th>\n",
       "      <th>fastball</th>\n",
       "      <th>on_1b</th>\n",
       "      <th>on_2b</th>\n",
       "      <th>on_3b</th>\n",
       "      <th>p_throws_num</th>\n",
       "      <th>stand_num</th>\n",
       "      <th>top_num</th>\n",
       "      <th>pitch_num_2.0</th>\n",
       "      <th>pitch_num_3.0</th>\n",
       "      <th>pitch_num_4.0</th>\n",
       "      <th>pitch_num_5.0</th>\n",
       "      <th>pitch_num_6.0</th>\n",
       "      <th>pitch_num_7.0</th>\n",
       "      <th>pitch_num_8.0</th>\n",
       "      <th>pitch_num_9.0</th>\n",
       "      <th>pitch_num_10.0</th>\n",
       "    </tr>\n",
       "  </thead>\n",
       "  <tbody>\n",
       "    <tr>\n",
       "      <th>0</th>\n",
       "      <td>2.015000e+09</td>\n",
       "      <td>1</td>\n",
       "      <td>0.0</td>\n",
       "      <td>0.0</td>\n",
       "      <td>0.0</td>\n",
       "      <td>0</td>\n",
       "      <td>0</td>\n",
       "      <td>1</td>\n",
       "      <td>0</td>\n",
       "      <td>0</td>\n",
       "      <td>0</td>\n",
       "      <td>0</td>\n",
       "      <td>0</td>\n",
       "      <td>0</td>\n",
       "      <td>0</td>\n",
       "      <td>0</td>\n",
       "      <td>0</td>\n",
       "    </tr>\n",
       "    <tr>\n",
       "      <th>1</th>\n",
       "      <td>2.015000e+09</td>\n",
       "      <td>1</td>\n",
       "      <td>0.0</td>\n",
       "      <td>0.0</td>\n",
       "      <td>0.0</td>\n",
       "      <td>0</td>\n",
       "      <td>0</td>\n",
       "      <td>1</td>\n",
       "      <td>1</td>\n",
       "      <td>0</td>\n",
       "      <td>0</td>\n",
       "      <td>0</td>\n",
       "      <td>0</td>\n",
       "      <td>0</td>\n",
       "      <td>0</td>\n",
       "      <td>0</td>\n",
       "      <td>0</td>\n",
       "    </tr>\n",
       "    <tr>\n",
       "      <th>2</th>\n",
       "      <td>2.015000e+09</td>\n",
       "      <td>1</td>\n",
       "      <td>0.0</td>\n",
       "      <td>0.0</td>\n",
       "      <td>0.0</td>\n",
       "      <td>0</td>\n",
       "      <td>0</td>\n",
       "      <td>1</td>\n",
       "      <td>0</td>\n",
       "      <td>1</td>\n",
       "      <td>0</td>\n",
       "      <td>0</td>\n",
       "      <td>0</td>\n",
       "      <td>0</td>\n",
       "      <td>0</td>\n",
       "      <td>0</td>\n",
       "      <td>0</td>\n",
       "    </tr>\n",
       "    <tr>\n",
       "      <th>3</th>\n",
       "      <td>2.015000e+09</td>\n",
       "      <td>1</td>\n",
       "      <td>0.0</td>\n",
       "      <td>0.0</td>\n",
       "      <td>0.0</td>\n",
       "      <td>0</td>\n",
       "      <td>0</td>\n",
       "      <td>1</td>\n",
       "      <td>0</td>\n",
       "      <td>0</td>\n",
       "      <td>1</td>\n",
       "      <td>0</td>\n",
       "      <td>0</td>\n",
       "      <td>0</td>\n",
       "      <td>0</td>\n",
       "      <td>0</td>\n",
       "      <td>0</td>\n",
       "    </tr>\n",
       "    <tr>\n",
       "      <th>4</th>\n",
       "      <td>2.015000e+09</td>\n",
       "      <td>0</td>\n",
       "      <td>0.0</td>\n",
       "      <td>0.0</td>\n",
       "      <td>0.0</td>\n",
       "      <td>0</td>\n",
       "      <td>0</td>\n",
       "      <td>1</td>\n",
       "      <td>0</td>\n",
       "      <td>0</td>\n",
       "      <td>0</td>\n",
       "      <td>1</td>\n",
       "      <td>0</td>\n",
       "      <td>0</td>\n",
       "      <td>0</td>\n",
       "      <td>0</td>\n",
       "      <td>0</td>\n",
       "    </tr>\n",
       "    <tr>\n",
       "      <th>5</th>\n",
       "      <td>2.015000e+09</td>\n",
       "      <td>1</td>\n",
       "      <td>0.0</td>\n",
       "      <td>0.0</td>\n",
       "      <td>0.0</td>\n",
       "      <td>0</td>\n",
       "      <td>0</td>\n",
       "      <td>1</td>\n",
       "      <td>0</td>\n",
       "      <td>0</td>\n",
       "      <td>0</td>\n",
       "      <td>0</td>\n",
       "      <td>1</td>\n",
       "      <td>0</td>\n",
       "      <td>0</td>\n",
       "      <td>0</td>\n",
       "      <td>0</td>\n",
       "    </tr>\n",
       "    <tr>\n",
       "      <th>6</th>\n",
       "      <td>2.015000e+09</td>\n",
       "      <td>1</td>\n",
       "      <td>0.0</td>\n",
       "      <td>0.0</td>\n",
       "      <td>0.0</td>\n",
       "      <td>0</td>\n",
       "      <td>0</td>\n",
       "      <td>1</td>\n",
       "      <td>0</td>\n",
       "      <td>0</td>\n",
       "      <td>0</td>\n",
       "      <td>0</td>\n",
       "      <td>0</td>\n",
       "      <td>0</td>\n",
       "      <td>0</td>\n",
       "      <td>0</td>\n",
       "      <td>0</td>\n",
       "    </tr>\n",
       "    <tr>\n",
       "      <th>7</th>\n",
       "      <td>2.015000e+09</td>\n",
       "      <td>1</td>\n",
       "      <td>0.0</td>\n",
       "      <td>0.0</td>\n",
       "      <td>0.0</td>\n",
       "      <td>0</td>\n",
       "      <td>0</td>\n",
       "      <td>1</td>\n",
       "      <td>1</td>\n",
       "      <td>0</td>\n",
       "      <td>0</td>\n",
       "      <td>0</td>\n",
       "      <td>0</td>\n",
       "      <td>0</td>\n",
       "      <td>0</td>\n",
       "      <td>0</td>\n",
       "      <td>0</td>\n",
       "    </tr>\n",
       "    <tr>\n",
       "      <th>8</th>\n",
       "      <td>2.015000e+09</td>\n",
       "      <td>1</td>\n",
       "      <td>0.0</td>\n",
       "      <td>1.0</td>\n",
       "      <td>0.0</td>\n",
       "      <td>0</td>\n",
       "      <td>1</td>\n",
       "      <td>1</td>\n",
       "      <td>0</td>\n",
       "      <td>0</td>\n",
       "      <td>0</td>\n",
       "      <td>0</td>\n",
       "      <td>0</td>\n",
       "      <td>0</td>\n",
       "      <td>0</td>\n",
       "      <td>0</td>\n",
       "      <td>0</td>\n",
       "    </tr>\n",
       "    <tr>\n",
       "      <th>9</th>\n",
       "      <td>2.015000e+09</td>\n",
       "      <td>1</td>\n",
       "      <td>0.0</td>\n",
       "      <td>1.0</td>\n",
       "      <td>0.0</td>\n",
       "      <td>0</td>\n",
       "      <td>1</td>\n",
       "      <td>1</td>\n",
       "      <td>1</td>\n",
       "      <td>0</td>\n",
       "      <td>0</td>\n",
       "      <td>0</td>\n",
       "      <td>0</td>\n",
       "      <td>0</td>\n",
       "      <td>0</td>\n",
       "      <td>0</td>\n",
       "      <td>0</td>\n",
       "    </tr>\n",
       "  </tbody>\n",
       "</table>\n",
       "</div>"
      ],
      "text/plain": [
       "          ab_id  fastball  on_1b  on_2b  on_3b  p_throws_num  stand_num  \\\n",
       "0  2.015000e+09         1    0.0    0.0    0.0             0          0   \n",
       "1  2.015000e+09         1    0.0    0.0    0.0             0          0   \n",
       "2  2.015000e+09         1    0.0    0.0    0.0             0          0   \n",
       "3  2.015000e+09         1    0.0    0.0    0.0             0          0   \n",
       "4  2.015000e+09         0    0.0    0.0    0.0             0          0   \n",
       "5  2.015000e+09         1    0.0    0.0    0.0             0          0   \n",
       "6  2.015000e+09         1    0.0    0.0    0.0             0          0   \n",
       "7  2.015000e+09         1    0.0    0.0    0.0             0          0   \n",
       "8  2.015000e+09         1    0.0    1.0    0.0             0          1   \n",
       "9  2.015000e+09         1    0.0    1.0    0.0             0          1   \n",
       "\n",
       "   top_num  pitch_num_2.0  pitch_num_3.0  pitch_num_4.0  pitch_num_5.0  \\\n",
       "0        1              0              0              0              0   \n",
       "1        1              1              0              0              0   \n",
       "2        1              0              1              0              0   \n",
       "3        1              0              0              1              0   \n",
       "4        1              0              0              0              1   \n",
       "5        1              0              0              0              0   \n",
       "6        1              0              0              0              0   \n",
       "7        1              1              0              0              0   \n",
       "8        1              0              0              0              0   \n",
       "9        1              1              0              0              0   \n",
       "\n",
       "   pitch_num_6.0  pitch_num_7.0  pitch_num_8.0  pitch_num_9.0  pitch_num_10.0  \n",
       "0              0              0              0              0               0  \n",
       "1              0              0              0              0               0  \n",
       "2              0              0              0              0               0  \n",
       "3              0              0              0              0               0  \n",
       "4              0              0              0              0               0  \n",
       "5              1              0              0              0               0  \n",
       "6              0              0              0              0               0  \n",
       "7              0              0              0              0               0  \n",
       "8              0              0              0              0               0  \n",
       "9              0              0              0              0               0  "
      ]
     },
     "execution_count": 75,
     "metadata": {},
     "output_type": "execute_result"
    }
   ],
   "source": [
    "# Combine the outlier values into one column\n",
    "df['pitch_num'] = df['pitch_num'].replace([11, 12, 13, 14, 15, 16, 17, 18, 19, 20, 21], 10)\n",
    "\n",
    "# Create the dummy variables\n",
    "df_dummies = pd.get_dummies(df['pitch_num'], prefix='pitch_num', drop_first=True)\n",
    "\n",
    "# Add the dummy variables to the model dataframe\n",
    "df_model = pd.concat([df_model, df_dummies], axis=1)\n",
    "\n",
    "df_model.head(10)"
   ]
  },
  {
   "cell_type": "code",
   "execution_count": 76,
   "metadata": {
    "id": "tEgZrBt8PU--"
   },
   "outputs": [
    {
     "data": {
      "text/plain": [
       "0.0    1292084\n",
       "1.0     855623\n",
       "2.0     483926\n",
       "3.0     235508\n",
       "4.0         13\n",
       "Name: b_count, dtype: int64"
      ]
     },
     "execution_count": 76,
     "metadata": {},
     "output_type": "execute_result"
    }
   ],
   "source": [
    "df['b_count'].value_counts()"
   ]
  },
  {
   "cell_type": "code",
   "execution_count": 77,
   "metadata": {
    "id": "4jHWf07KPZJl"
   },
   "outputs": [
    {
     "data": {
      "text/html": [
       "<div>\n",
       "<style scoped>\n",
       "    .dataframe tbody tr th:only-of-type {\n",
       "        vertical-align: middle;\n",
       "    }\n",
       "\n",
       "    .dataframe tbody tr th {\n",
       "        vertical-align: top;\n",
       "    }\n",
       "\n",
       "    .dataframe thead th {\n",
       "        text-align: right;\n",
       "    }\n",
       "</style>\n",
       "<table border=\"1\" class=\"dataframe\">\n",
       "  <thead>\n",
       "    <tr style=\"text-align: right;\">\n",
       "      <th></th>\n",
       "      <th>ab_id</th>\n",
       "      <th>fastball</th>\n",
       "      <th>on_1b</th>\n",
       "      <th>on_2b</th>\n",
       "      <th>on_3b</th>\n",
       "      <th>p_throws_num</th>\n",
       "      <th>stand_num</th>\n",
       "      <th>top_num</th>\n",
       "      <th>pitch_num_2.0</th>\n",
       "      <th>pitch_num_3.0</th>\n",
       "      <th>pitch_num_4.0</th>\n",
       "      <th>pitch_num_5.0</th>\n",
       "      <th>pitch_num_6.0</th>\n",
       "      <th>pitch_num_7.0</th>\n",
       "      <th>pitch_num_8.0</th>\n",
       "      <th>pitch_num_9.0</th>\n",
       "      <th>pitch_num_10.0</th>\n",
       "      <th>b_count_1.0</th>\n",
       "      <th>b_count_2.0</th>\n",
       "      <th>b_count_3.0</th>\n",
       "    </tr>\n",
       "  </thead>\n",
       "  <tbody>\n",
       "    <tr>\n",
       "      <th>0</th>\n",
       "      <td>2.015000e+09</td>\n",
       "      <td>1</td>\n",
       "      <td>0.0</td>\n",
       "      <td>0.0</td>\n",
       "      <td>0.0</td>\n",
       "      <td>0</td>\n",
       "      <td>0</td>\n",
       "      <td>1</td>\n",
       "      <td>0</td>\n",
       "      <td>0</td>\n",
       "      <td>0</td>\n",
       "      <td>0</td>\n",
       "      <td>0</td>\n",
       "      <td>0</td>\n",
       "      <td>0</td>\n",
       "      <td>0</td>\n",
       "      <td>0</td>\n",
       "      <td>0</td>\n",
       "      <td>0</td>\n",
       "      <td>0</td>\n",
       "    </tr>\n",
       "    <tr>\n",
       "      <th>1</th>\n",
       "      <td>2.015000e+09</td>\n",
       "      <td>1</td>\n",
       "      <td>0.0</td>\n",
       "      <td>0.0</td>\n",
       "      <td>0.0</td>\n",
       "      <td>0</td>\n",
       "      <td>0</td>\n",
       "      <td>1</td>\n",
       "      <td>1</td>\n",
       "      <td>0</td>\n",
       "      <td>0</td>\n",
       "      <td>0</td>\n",
       "      <td>0</td>\n",
       "      <td>0</td>\n",
       "      <td>0</td>\n",
       "      <td>0</td>\n",
       "      <td>0</td>\n",
       "      <td>0</td>\n",
       "      <td>0</td>\n",
       "      <td>0</td>\n",
       "    </tr>\n",
       "    <tr>\n",
       "      <th>2</th>\n",
       "      <td>2.015000e+09</td>\n",
       "      <td>1</td>\n",
       "      <td>0.0</td>\n",
       "      <td>0.0</td>\n",
       "      <td>0.0</td>\n",
       "      <td>0</td>\n",
       "      <td>0</td>\n",
       "      <td>1</td>\n",
       "      <td>0</td>\n",
       "      <td>1</td>\n",
       "      <td>0</td>\n",
       "      <td>0</td>\n",
       "      <td>0</td>\n",
       "      <td>0</td>\n",
       "      <td>0</td>\n",
       "      <td>0</td>\n",
       "      <td>0</td>\n",
       "      <td>0</td>\n",
       "      <td>0</td>\n",
       "      <td>0</td>\n",
       "    </tr>\n",
       "    <tr>\n",
       "      <th>3</th>\n",
       "      <td>2.015000e+09</td>\n",
       "      <td>1</td>\n",
       "      <td>0.0</td>\n",
       "      <td>0.0</td>\n",
       "      <td>0.0</td>\n",
       "      <td>0</td>\n",
       "      <td>0</td>\n",
       "      <td>1</td>\n",
       "      <td>0</td>\n",
       "      <td>0</td>\n",
       "      <td>1</td>\n",
       "      <td>0</td>\n",
       "      <td>0</td>\n",
       "      <td>0</td>\n",
       "      <td>0</td>\n",
       "      <td>0</td>\n",
       "      <td>0</td>\n",
       "      <td>0</td>\n",
       "      <td>0</td>\n",
       "      <td>0</td>\n",
       "    </tr>\n",
       "    <tr>\n",
       "      <th>4</th>\n",
       "      <td>2.015000e+09</td>\n",
       "      <td>0</td>\n",
       "      <td>0.0</td>\n",
       "      <td>0.0</td>\n",
       "      <td>0.0</td>\n",
       "      <td>0</td>\n",
       "      <td>0</td>\n",
       "      <td>1</td>\n",
       "      <td>0</td>\n",
       "      <td>0</td>\n",
       "      <td>0</td>\n",
       "      <td>1</td>\n",
       "      <td>0</td>\n",
       "      <td>0</td>\n",
       "      <td>0</td>\n",
       "      <td>0</td>\n",
       "      <td>0</td>\n",
       "      <td>1</td>\n",
       "      <td>0</td>\n",
       "      <td>0</td>\n",
       "    </tr>\n",
       "    <tr>\n",
       "      <th>5</th>\n",
       "      <td>2.015000e+09</td>\n",
       "      <td>1</td>\n",
       "      <td>0.0</td>\n",
       "      <td>0.0</td>\n",
       "      <td>0.0</td>\n",
       "      <td>0</td>\n",
       "      <td>0</td>\n",
       "      <td>1</td>\n",
       "      <td>0</td>\n",
       "      <td>0</td>\n",
       "      <td>0</td>\n",
       "      <td>0</td>\n",
       "      <td>1</td>\n",
       "      <td>0</td>\n",
       "      <td>0</td>\n",
       "      <td>0</td>\n",
       "      <td>0</td>\n",
       "      <td>0</td>\n",
       "      <td>1</td>\n",
       "      <td>0</td>\n",
       "    </tr>\n",
       "    <tr>\n",
       "      <th>6</th>\n",
       "      <td>2.015000e+09</td>\n",
       "      <td>1</td>\n",
       "      <td>0.0</td>\n",
       "      <td>0.0</td>\n",
       "      <td>0.0</td>\n",
       "      <td>0</td>\n",
       "      <td>0</td>\n",
       "      <td>1</td>\n",
       "      <td>0</td>\n",
       "      <td>0</td>\n",
       "      <td>0</td>\n",
       "      <td>0</td>\n",
       "      <td>0</td>\n",
       "      <td>0</td>\n",
       "      <td>0</td>\n",
       "      <td>0</td>\n",
       "      <td>0</td>\n",
       "      <td>0</td>\n",
       "      <td>0</td>\n",
       "      <td>0</td>\n",
       "    </tr>\n",
       "    <tr>\n",
       "      <th>7</th>\n",
       "      <td>2.015000e+09</td>\n",
       "      <td>1</td>\n",
       "      <td>0.0</td>\n",
       "      <td>0.0</td>\n",
       "      <td>0.0</td>\n",
       "      <td>0</td>\n",
       "      <td>0</td>\n",
       "      <td>1</td>\n",
       "      <td>1</td>\n",
       "      <td>0</td>\n",
       "      <td>0</td>\n",
       "      <td>0</td>\n",
       "      <td>0</td>\n",
       "      <td>0</td>\n",
       "      <td>0</td>\n",
       "      <td>0</td>\n",
       "      <td>0</td>\n",
       "      <td>1</td>\n",
       "      <td>0</td>\n",
       "      <td>0</td>\n",
       "    </tr>\n",
       "    <tr>\n",
       "      <th>8</th>\n",
       "      <td>2.015000e+09</td>\n",
       "      <td>1</td>\n",
       "      <td>0.0</td>\n",
       "      <td>1.0</td>\n",
       "      <td>0.0</td>\n",
       "      <td>0</td>\n",
       "      <td>1</td>\n",
       "      <td>1</td>\n",
       "      <td>0</td>\n",
       "      <td>0</td>\n",
       "      <td>0</td>\n",
       "      <td>0</td>\n",
       "      <td>0</td>\n",
       "      <td>0</td>\n",
       "      <td>0</td>\n",
       "      <td>0</td>\n",
       "      <td>0</td>\n",
       "      <td>0</td>\n",
       "      <td>0</td>\n",
       "      <td>0</td>\n",
       "    </tr>\n",
       "    <tr>\n",
       "      <th>9</th>\n",
       "      <td>2.015000e+09</td>\n",
       "      <td>1</td>\n",
       "      <td>0.0</td>\n",
       "      <td>1.0</td>\n",
       "      <td>0.0</td>\n",
       "      <td>0</td>\n",
       "      <td>1</td>\n",
       "      <td>1</td>\n",
       "      <td>1</td>\n",
       "      <td>0</td>\n",
       "      <td>0</td>\n",
       "      <td>0</td>\n",
       "      <td>0</td>\n",
       "      <td>0</td>\n",
       "      <td>0</td>\n",
       "      <td>0</td>\n",
       "      <td>0</td>\n",
       "      <td>1</td>\n",
       "      <td>0</td>\n",
       "      <td>0</td>\n",
       "    </tr>\n",
       "  </tbody>\n",
       "</table>\n",
       "</div>"
      ],
      "text/plain": [
       "          ab_id  fastball  on_1b  on_2b  on_3b  p_throws_num  stand_num  \\\n",
       "0  2.015000e+09         1    0.0    0.0    0.0             0          0   \n",
       "1  2.015000e+09         1    0.0    0.0    0.0             0          0   \n",
       "2  2.015000e+09         1    0.0    0.0    0.0             0          0   \n",
       "3  2.015000e+09         1    0.0    0.0    0.0             0          0   \n",
       "4  2.015000e+09         0    0.0    0.0    0.0             0          0   \n",
       "5  2.015000e+09         1    0.0    0.0    0.0             0          0   \n",
       "6  2.015000e+09         1    0.0    0.0    0.0             0          0   \n",
       "7  2.015000e+09         1    0.0    0.0    0.0             0          0   \n",
       "8  2.015000e+09         1    0.0    1.0    0.0             0          1   \n",
       "9  2.015000e+09         1    0.0    1.0    0.0             0          1   \n",
       "\n",
       "   top_num  pitch_num_2.0  pitch_num_3.0  pitch_num_4.0  pitch_num_5.0  \\\n",
       "0        1              0              0              0              0   \n",
       "1        1              1              0              0              0   \n",
       "2        1              0              1              0              0   \n",
       "3        1              0              0              1              0   \n",
       "4        1              0              0              0              1   \n",
       "5        1              0              0              0              0   \n",
       "6        1              0              0              0              0   \n",
       "7        1              1              0              0              0   \n",
       "8        1              0              0              0              0   \n",
       "9        1              1              0              0              0   \n",
       "\n",
       "   pitch_num_6.0  pitch_num_7.0  pitch_num_8.0  pitch_num_9.0  pitch_num_10.0  \\\n",
       "0              0              0              0              0               0   \n",
       "1              0              0              0              0               0   \n",
       "2              0              0              0              0               0   \n",
       "3              0              0              0              0               0   \n",
       "4              0              0              0              0               0   \n",
       "5              1              0              0              0               0   \n",
       "6              0              0              0              0               0   \n",
       "7              0              0              0              0               0   \n",
       "8              0              0              0              0               0   \n",
       "9              0              0              0              0               0   \n",
       "\n",
       "   b_count_1.0  b_count_2.0  b_count_3.0  \n",
       "0            0            0            0  \n",
       "1            0            0            0  \n",
       "2            0            0            0  \n",
       "3            0            0            0  \n",
       "4            1            0            0  \n",
       "5            0            1            0  \n",
       "6            0            0            0  \n",
       "7            1            0            0  \n",
       "8            0            0            0  \n",
       "9            1            0            0  "
      ]
     },
     "execution_count": 77,
     "metadata": {},
     "output_type": "execute_result"
    }
   ],
   "source": [
    "# Replace values of 4 as 3\n",
    "df['b_count'] = df['b_count'].replace(4, 3)\n",
    "\n",
    "# Create the dummy variables\n",
    "df_dummies = pd.get_dummies(df['b_count'], prefix='b_count', drop_first=True)\n",
    "\n",
    "# Add the dummy variables to the model dataframe\n",
    "df_model = pd.concat([df_model, df_dummies], axis=1)\n",
    "\n",
    "df_model.head(10)"
   ]
  },
  {
   "cell_type": "code",
   "execution_count": 78,
   "metadata": {
    "id": "A9tsbww0Ps3A"
   },
   "outputs": [],
   "source": [
    "# Create the dummy variables\n",
    "df_dummies = pd.get_dummies(df['s_count'], prefix='s_count', drop_first=True)\n",
    "\n",
    "# Add the dummy variables to the model dataframe\n",
    "df_model = pd.concat([df_model, df_dummies], axis=1)"
   ]
  },
  {
   "cell_type": "code",
   "execution_count": 79,
   "metadata": {
    "id": "QjkQdMrEP5ci"
   },
   "outputs": [],
   "source": [
    "# Create the dummy variables\n",
    "df_dummies = pd.get_dummies(df['outs'], prefix='outs', drop_first=True)\n",
    "\n",
    "# Add the dummy variables to the model dataframe\n",
    "df_model = pd.concat([df_model, df_dummies], axis=1)"
   ]
  },
  {
   "cell_type": "code",
   "execution_count": 80,
   "metadata": {
    "id": "Srcr8f9lP7Yz"
   },
   "outputs": [
    {
     "data": {
      "text/plain": [
       "1     333237\n",
       "8     323829\n",
       "7     322073\n",
       "6     319920\n",
       "4     318227\n",
       "2     316917\n",
       "3     316908\n",
       "5     315819\n",
       "9     244579\n",
       "10     25309\n",
       "11     14383\n",
       "12      7560\n",
       "13      4244\n",
       "14      1809\n",
       "15      1076\n",
       "16       693\n",
       "17       308\n",
       "18       191\n",
       "19        72\n",
       "Name: inning, dtype: int64"
      ]
     },
     "execution_count": 80,
     "metadata": {},
     "output_type": "execute_result"
    }
   ],
   "source": [
    "df['inning'].value_counts()"
   ]
  },
  {
   "cell_type": "code",
   "execution_count": 81,
   "metadata": {
    "id": "GrV97oo_P_Qr"
   },
   "outputs": [],
   "source": [
    "# Combine all extra inning games into one column\n",
    "df['inning'] = df['inning'].replace([11, 12, 13, 14, 15, 16, 17, 18, 19], 10)\n",
    "\n",
    "# Create the dummy variables\n",
    "df_dummies = pd.get_dummies(df['inning'], prefix='inning', drop_first=True)\n",
    "\n",
    "# Add the dummy variables to the model dataframe\n",
    "df_model = pd.concat([df_model, df_dummies], axis=1)"
   ]
  },
  {
   "cell_type": "code",
   "execution_count": 82,
   "metadata": {
    "id": "LTQWI2SNQMV9"
   },
   "outputs": [],
   "source": [
    "# Create the new difference in score column\n",
    "df['pitcher_lead'] = df['p_score'] - df['b_score']\n",
    "\n",
    "# Combine the outlier score differences\n",
    "df['pitcher_lead'] = df['pitcher_lead'].replace([11, 12, 13, 14, 15, 16, 17, 18, 19, 20, 21, 23, 24], 10)\n",
    "df['pitcher_lead'] = df['pitcher_lead'].replace([-11, -12, -13, -14, -15, -16, -17, -18, -19, -20, -23, -24], -10)\n",
    "\n",
    "# Create the dummy variables\n",
    "df_dummies = pd.get_dummies(df['pitcher_lead'], prefix='pitcher_lead', drop_first=True)\n",
    "\n",
    "# Add the dummy variables to the model dataframe\n",
    "df_model = pd.concat([df_model, df_dummies], axis=1)"
   ]
  },
  {
   "cell_type": "code",
   "execution_count": 83,
   "metadata": {
    "id": "1DBjJFOoQ3iF"
   },
   "outputs": [
    {
     "data": {
      "text/html": [
       "<div>\n",
       "<style scoped>\n",
       "    .dataframe tbody tr th:only-of-type {\n",
       "        vertical-align: middle;\n",
       "    }\n",
       "\n",
       "    .dataframe tbody tr th {\n",
       "        vertical-align: top;\n",
       "    }\n",
       "\n",
       "    .dataframe thead th {\n",
       "        text-align: right;\n",
       "    }\n",
       "</style>\n",
       "<table border=\"1\" class=\"dataframe\">\n",
       "  <thead>\n",
       "    <tr style=\"text-align: right;\">\n",
       "      <th></th>\n",
       "      <th>ab_id</th>\n",
       "      <th>fastball</th>\n",
       "      <th>on_1b</th>\n",
       "      <th>on_2b</th>\n",
       "      <th>on_3b</th>\n",
       "      <th>p_throws_num</th>\n",
       "      <th>stand_num</th>\n",
       "      <th>top_num</th>\n",
       "      <th>pitch_num_2.0</th>\n",
       "      <th>pitch_num_3.0</th>\n",
       "      <th>...</th>\n",
       "      <th>pitcher_lead_1.0</th>\n",
       "      <th>pitcher_lead_2.0</th>\n",
       "      <th>pitcher_lead_3.0</th>\n",
       "      <th>pitcher_lead_4.0</th>\n",
       "      <th>pitcher_lead_5.0</th>\n",
       "      <th>pitcher_lead_6.0</th>\n",
       "      <th>pitcher_lead_7.0</th>\n",
       "      <th>pitcher_lead_8.0</th>\n",
       "      <th>pitcher_lead_9.0</th>\n",
       "      <th>pitcher_lead_10.0</th>\n",
       "    </tr>\n",
       "  </thead>\n",
       "  <tbody>\n",
       "    <tr>\n",
       "      <th>0</th>\n",
       "      <td>2.015000e+09</td>\n",
       "      <td>1</td>\n",
       "      <td>0.0</td>\n",
       "      <td>0.0</td>\n",
       "      <td>0.0</td>\n",
       "      <td>0</td>\n",
       "      <td>0</td>\n",
       "      <td>1</td>\n",
       "      <td>0</td>\n",
       "      <td>0</td>\n",
       "      <td>...</td>\n",
       "      <td>0</td>\n",
       "      <td>0</td>\n",
       "      <td>0</td>\n",
       "      <td>0</td>\n",
       "      <td>0</td>\n",
       "      <td>0</td>\n",
       "      <td>0</td>\n",
       "      <td>0</td>\n",
       "      <td>0</td>\n",
       "      <td>0</td>\n",
       "    </tr>\n",
       "    <tr>\n",
       "      <th>1</th>\n",
       "      <td>2.015000e+09</td>\n",
       "      <td>1</td>\n",
       "      <td>0.0</td>\n",
       "      <td>0.0</td>\n",
       "      <td>0.0</td>\n",
       "      <td>0</td>\n",
       "      <td>0</td>\n",
       "      <td>1</td>\n",
       "      <td>1</td>\n",
       "      <td>0</td>\n",
       "      <td>...</td>\n",
       "      <td>0</td>\n",
       "      <td>0</td>\n",
       "      <td>0</td>\n",
       "      <td>0</td>\n",
       "      <td>0</td>\n",
       "      <td>0</td>\n",
       "      <td>0</td>\n",
       "      <td>0</td>\n",
       "      <td>0</td>\n",
       "      <td>0</td>\n",
       "    </tr>\n",
       "    <tr>\n",
       "      <th>2</th>\n",
       "      <td>2.015000e+09</td>\n",
       "      <td>1</td>\n",
       "      <td>0.0</td>\n",
       "      <td>0.0</td>\n",
       "      <td>0.0</td>\n",
       "      <td>0</td>\n",
       "      <td>0</td>\n",
       "      <td>1</td>\n",
       "      <td>0</td>\n",
       "      <td>1</td>\n",
       "      <td>...</td>\n",
       "      <td>0</td>\n",
       "      <td>0</td>\n",
       "      <td>0</td>\n",
       "      <td>0</td>\n",
       "      <td>0</td>\n",
       "      <td>0</td>\n",
       "      <td>0</td>\n",
       "      <td>0</td>\n",
       "      <td>0</td>\n",
       "      <td>0</td>\n",
       "    </tr>\n",
       "    <tr>\n",
       "      <th>3</th>\n",
       "      <td>2.015000e+09</td>\n",
       "      <td>1</td>\n",
       "      <td>0.0</td>\n",
       "      <td>0.0</td>\n",
       "      <td>0.0</td>\n",
       "      <td>0</td>\n",
       "      <td>0</td>\n",
       "      <td>1</td>\n",
       "      <td>0</td>\n",
       "      <td>0</td>\n",
       "      <td>...</td>\n",
       "      <td>0</td>\n",
       "      <td>0</td>\n",
       "      <td>0</td>\n",
       "      <td>0</td>\n",
       "      <td>0</td>\n",
       "      <td>0</td>\n",
       "      <td>0</td>\n",
       "      <td>0</td>\n",
       "      <td>0</td>\n",
       "      <td>0</td>\n",
       "    </tr>\n",
       "    <tr>\n",
       "      <th>4</th>\n",
       "      <td>2.015000e+09</td>\n",
       "      <td>0</td>\n",
       "      <td>0.0</td>\n",
       "      <td>0.0</td>\n",
       "      <td>0.0</td>\n",
       "      <td>0</td>\n",
       "      <td>0</td>\n",
       "      <td>1</td>\n",
       "      <td>0</td>\n",
       "      <td>0</td>\n",
       "      <td>...</td>\n",
       "      <td>0</td>\n",
       "      <td>0</td>\n",
       "      <td>0</td>\n",
       "      <td>0</td>\n",
       "      <td>0</td>\n",
       "      <td>0</td>\n",
       "      <td>0</td>\n",
       "      <td>0</td>\n",
       "      <td>0</td>\n",
       "      <td>0</td>\n",
       "    </tr>\n",
       "    <tr>\n",
       "      <th>5</th>\n",
       "      <td>2.015000e+09</td>\n",
       "      <td>1</td>\n",
       "      <td>0.0</td>\n",
       "      <td>0.0</td>\n",
       "      <td>0.0</td>\n",
       "      <td>0</td>\n",
       "      <td>0</td>\n",
       "      <td>1</td>\n",
       "      <td>0</td>\n",
       "      <td>0</td>\n",
       "      <td>...</td>\n",
       "      <td>0</td>\n",
       "      <td>0</td>\n",
       "      <td>0</td>\n",
       "      <td>0</td>\n",
       "      <td>0</td>\n",
       "      <td>0</td>\n",
       "      <td>0</td>\n",
       "      <td>0</td>\n",
       "      <td>0</td>\n",
       "      <td>0</td>\n",
       "    </tr>\n",
       "    <tr>\n",
       "      <th>6</th>\n",
       "      <td>2.015000e+09</td>\n",
       "      <td>1</td>\n",
       "      <td>0.0</td>\n",
       "      <td>0.0</td>\n",
       "      <td>0.0</td>\n",
       "      <td>0</td>\n",
       "      <td>0</td>\n",
       "      <td>1</td>\n",
       "      <td>0</td>\n",
       "      <td>0</td>\n",
       "      <td>...</td>\n",
       "      <td>0</td>\n",
       "      <td>0</td>\n",
       "      <td>0</td>\n",
       "      <td>0</td>\n",
       "      <td>0</td>\n",
       "      <td>0</td>\n",
       "      <td>0</td>\n",
       "      <td>0</td>\n",
       "      <td>0</td>\n",
       "      <td>0</td>\n",
       "    </tr>\n",
       "    <tr>\n",
       "      <th>7</th>\n",
       "      <td>2.015000e+09</td>\n",
       "      <td>1</td>\n",
       "      <td>0.0</td>\n",
       "      <td>0.0</td>\n",
       "      <td>0.0</td>\n",
       "      <td>0</td>\n",
       "      <td>0</td>\n",
       "      <td>1</td>\n",
       "      <td>1</td>\n",
       "      <td>0</td>\n",
       "      <td>...</td>\n",
       "      <td>0</td>\n",
       "      <td>0</td>\n",
       "      <td>0</td>\n",
       "      <td>0</td>\n",
       "      <td>0</td>\n",
       "      <td>0</td>\n",
       "      <td>0</td>\n",
       "      <td>0</td>\n",
       "      <td>0</td>\n",
       "      <td>0</td>\n",
       "    </tr>\n",
       "    <tr>\n",
       "      <th>8</th>\n",
       "      <td>2.015000e+09</td>\n",
       "      <td>1</td>\n",
       "      <td>0.0</td>\n",
       "      <td>1.0</td>\n",
       "      <td>0.0</td>\n",
       "      <td>0</td>\n",
       "      <td>1</td>\n",
       "      <td>1</td>\n",
       "      <td>0</td>\n",
       "      <td>0</td>\n",
       "      <td>...</td>\n",
       "      <td>0</td>\n",
       "      <td>0</td>\n",
       "      <td>0</td>\n",
       "      <td>0</td>\n",
       "      <td>0</td>\n",
       "      <td>0</td>\n",
       "      <td>0</td>\n",
       "      <td>0</td>\n",
       "      <td>0</td>\n",
       "      <td>0</td>\n",
       "    </tr>\n",
       "    <tr>\n",
       "      <th>9</th>\n",
       "      <td>2.015000e+09</td>\n",
       "      <td>1</td>\n",
       "      <td>0.0</td>\n",
       "      <td>1.0</td>\n",
       "      <td>0.0</td>\n",
       "      <td>0</td>\n",
       "      <td>1</td>\n",
       "      <td>1</td>\n",
       "      <td>1</td>\n",
       "      <td>0</td>\n",
       "      <td>...</td>\n",
       "      <td>0</td>\n",
       "      <td>0</td>\n",
       "      <td>0</td>\n",
       "      <td>0</td>\n",
       "      <td>0</td>\n",
       "      <td>0</td>\n",
       "      <td>0</td>\n",
       "      <td>0</td>\n",
       "      <td>0</td>\n",
       "      <td>0</td>\n",
       "    </tr>\n",
       "  </tbody>\n",
       "</table>\n",
       "<p>10 rows × 53 columns</p>\n",
       "</div>"
      ],
      "text/plain": [
       "          ab_id  fastball  on_1b  on_2b  on_3b  p_throws_num  stand_num  \\\n",
       "0  2.015000e+09         1    0.0    0.0    0.0             0          0   \n",
       "1  2.015000e+09         1    0.0    0.0    0.0             0          0   \n",
       "2  2.015000e+09         1    0.0    0.0    0.0             0          0   \n",
       "3  2.015000e+09         1    0.0    0.0    0.0             0          0   \n",
       "4  2.015000e+09         0    0.0    0.0    0.0             0          0   \n",
       "5  2.015000e+09         1    0.0    0.0    0.0             0          0   \n",
       "6  2.015000e+09         1    0.0    0.0    0.0             0          0   \n",
       "7  2.015000e+09         1    0.0    0.0    0.0             0          0   \n",
       "8  2.015000e+09         1    0.0    1.0    0.0             0          1   \n",
       "9  2.015000e+09         1    0.0    1.0    0.0             0          1   \n",
       "\n",
       "   top_num  pitch_num_2.0  pitch_num_3.0  ...  pitcher_lead_1.0  \\\n",
       "0        1              0              0  ...                 0   \n",
       "1        1              1              0  ...                 0   \n",
       "2        1              0              1  ...                 0   \n",
       "3        1              0              0  ...                 0   \n",
       "4        1              0              0  ...                 0   \n",
       "5        1              0              0  ...                 0   \n",
       "6        1              0              0  ...                 0   \n",
       "7        1              1              0  ...                 0   \n",
       "8        1              0              0  ...                 0   \n",
       "9        1              1              0  ...                 0   \n",
       "\n",
       "   pitcher_lead_2.0  pitcher_lead_3.0  pitcher_lead_4.0  pitcher_lead_5.0  \\\n",
       "0                 0                 0                 0                 0   \n",
       "1                 0                 0                 0                 0   \n",
       "2                 0                 0                 0                 0   \n",
       "3                 0                 0                 0                 0   \n",
       "4                 0                 0                 0                 0   \n",
       "5                 0                 0                 0                 0   \n",
       "6                 0                 0                 0                 0   \n",
       "7                 0                 0                 0                 0   \n",
       "8                 0                 0                 0                 0   \n",
       "9                 0                 0                 0                 0   \n",
       "\n",
       "   pitcher_lead_6.0  pitcher_lead_7.0  pitcher_lead_8.0  pitcher_lead_9.0  \\\n",
       "0                 0                 0                 0                 0   \n",
       "1                 0                 0                 0                 0   \n",
       "2                 0                 0                 0                 0   \n",
       "3                 0                 0                 0                 0   \n",
       "4                 0                 0                 0                 0   \n",
       "5                 0                 0                 0                 0   \n",
       "6                 0                 0                 0                 0   \n",
       "7                 0                 0                 0                 0   \n",
       "8                 0                 0                 0                 0   \n",
       "9                 0                 0                 0                 0   \n",
       "\n",
       "   pitcher_lead_10.0  \n",
       "0                  0  \n",
       "1                  0  \n",
       "2                  0  \n",
       "3                  0  \n",
       "4                  0  \n",
       "5                  0  \n",
       "6                  0  \n",
       "7                  0  \n",
       "8                  0  \n",
       "9                  0  \n",
       "\n",
       "[10 rows x 53 columns]"
      ]
     },
     "execution_count": 83,
     "metadata": {},
     "output_type": "execute_result"
    }
   ],
   "source": [
    "df_model.head(10)"
   ]
  },
  {
   "cell_type": "code",
   "execution_count": 84,
   "metadata": {
    "id": "hwADjRapQ8dF"
   },
   "outputs": [
    {
     "data": {
      "text/plain": [
       "(2867154, 53)"
      ]
     },
     "execution_count": 84,
     "metadata": {},
     "output_type": "execute_result"
    }
   ],
   "source": [
    "df_model.shape"
   ]
  },
  {
   "cell_type": "markdown",
   "metadata": {},
   "source": [
    "# MODELING"
   ]
  },
  {
   "cell_type": "code",
   "execution_count": 86,
   "metadata": {
    "id": "2nR4MrXrRJG9"
   },
   "outputs": [
    {
     "data": {
      "text/plain": [
       "0.5240551724137931"
      ]
     },
     "execution_count": 86,
     "metadata": {},
     "output_type": "execute_result"
    }
   ],
   "source": [
    "# create the sample dataframe\n",
    "df_sample = df_model.sample(145000, random_state=6)\n",
    "\n",
    "# verify the fastball/non-fastball split\n",
    "df_sample['fastball'].sum() / len(df_sample)"
   ]
  },
  {
   "cell_type": "code",
   "execution_count": 87,
   "metadata": {
    "id": "u141C_lyRMc5"
   },
   "outputs": [],
   "source": [
    "# split the dataframe\n",
    "X = df_sample.iloc[:, 2:]\n",
    "y = df_sample.iloc[:, 1]\n",
    "\n",
    "# split the data into train and test sets\n",
    "X_train, X_test, y_train, y_test = train_test_split(X, y, random_state=6, stratify=y)"
   ]
  },
  {
   "cell_type": "code",
   "execution_count": 88,
   "metadata": {
    "id": "HoCz3gF-RUzr"
   },
   "outputs": [
    {
     "name": "stdout",
     "output_type": "stream",
     "text": [
      "Training Set Accuracy: 0.5572689655172414\n",
      "Test Set Accuracy: 0.5494068965517241\n"
     ]
    }
   ],
   "source": [
    "lr = LogisticRegression()\n",
    "lr.fit(X_train, y_train)\n",
    "y_pred_lr = lr.predict(X_test)\n",
    "print('Training Set Accuracy: {}'.format(lr.score(X_train, y_train)))\n",
    "print('Test Set Accuracy: {}'.format(lr.score(X_test, y_test)))"
   ]
  },
  {
   "cell_type": "code",
   "execution_count": 89,
   "metadata": {
    "id": "jobugtEkRY_c"
   },
   "outputs": [
    {
     "name": "stdout",
     "output_type": "stream",
     "text": [
      "Training Set Accuracy: 0.5483770114942529\n",
      "Test Set Accuracy: 0.5442482758620689\n"
     ]
    }
   ],
   "source": [
    "sgdc = SGDClassifier()\n",
    "sgdc.fit(X_train, y_train)\n",
    "y_pred_sgdc = sgdc.predict(X_test)\n",
    "print('Training Set Accuracy: {}'.format(sgdc.score(X_train, y_train)))\n",
    "print('Test Set Accuracy: {}'.format(sgdc.score(X_test, y_test)))"
   ]
  },
  {
   "cell_type": "code",
   "execution_count": 90,
   "metadata": {
    "id": "zLEb1evdRie4"
   },
   "outputs": [
    {
     "name": "stdout",
     "output_type": "stream",
     "text": [
      "Training Set Accuracy: 0.8042390804597701\n",
      "Test Set Accuracy: 0.5279724137931034\n"
     ]
    }
   ],
   "source": [
    "rfc = RandomForestClassifier()\n",
    "rfc.fit(X_train, y_train)\n",
    "y_pred_rfc = rfc.predict(X_test)\n",
    "print('Training Set Accuracy: {}'.format(rfc.score(X_train, y_train)))\n",
    "print('Test Set Accuracy: {}'.format(rfc.score(X_test, y_test)))"
   ]
  },
  {
   "cell_type": "code",
   "execution_count": 91,
   "metadata": {
    "id": "Gx2c2U6-TzOI"
   },
   "outputs": [
    {
     "name": "stdout",
     "output_type": "stream",
     "text": [
      "Training Set Accuracy: 0.5626390804597701\n",
      "Test Set Accuracy: 0.550896551724138\n"
     ]
    }
   ],
   "source": [
    "gbc = GradientBoostingClassifier()\n",
    "gbc.fit(X_train, y_train)\n",
    "y_pred_gbc = gbc.predict(X_test)\n",
    "print('Training Set Accuracy: {}'.format(gbc.score(X_train, y_train)))\n",
    "print('Test Set Accuracy: {}'.format(gbc.score(X_test, y_test)))"
   ]
  },
  {
   "cell_type": "code",
   "execution_count": null,
   "metadata": {
    "id": "DbXHid03Wi5z",
    "scrolled": true
   },
   "outputs": [],
   "source": [
    "# add the pitcher_id column\n",
    "df_model['pitcher_id'] = df.loc[:, 'pitcher_id']\n",
    "\n",
    "# build the function\n",
    "def inning_pitch_count(df):\n",
    "    for index in df.index:\n",
    "        if index == 0:\n",
    "            df.loc[index, 'inning_pitch_count'] = 1\n",
    "        elif df.loc[index, 'pitcher_id'] == df.loc[index-1, 'pitcher_id']:\n",
    "            df.loc[index, 'inning_pitch_count'] = df.loc[index-1, 'inning_pitch_count'] + 1\n",
    "        else:\n",
    "            df.loc[index, 'inning_pitch_count'] = 1\n",
    "\n",
    "# run the function using the apply() method\n",
    "df_model['inning_pitch_count'] = df_model.apply(inning_pitch_count(df_model))\n",
    "\n",
    "# normalize the data because it is a continuous variable\n",
    "min_max_scaler = MinMaxScaler()\n",
    "df_model['inning_pitch_count'] = min_max_scaler.fit_transform(df_model.loc[:, 'inning_pitch_count'].values.astype(float))"
   ]
  },
  {
   "cell_type": "code",
   "execution_count": null,
   "metadata": {
    "id": "7VhGLD47W1aN"
   },
   "outputs": [],
   "source": [
    "# create a new dataframe to build the new features\n",
    "df_prev_pitch = df.loc[:, ['pitch_num', 'pitch_type', 'px', 'pz']]\n",
    "\n",
    "# shift the pitch_type, px, and pz columns down one row\n",
    "df_prev_pitch['pitch_type'] = df_prev_pitch['pitch_type'].shift(1, axis=0)\n",
    "df_prev_pitch['px'] = df_prev_pitch['px'].shift(1, axis=0)\n",
    "df_prev_pitch['pz'] = df_prev_pitch['pz'].shift(1, axis=0)\n",
    "\n",
    "# add the new feature columns\n",
    "df_prev_pitch['pitch_type_prev'] = 0\n",
    "df_prev_pitch['px_prev'] = 0\n",
    "df_prev_pitch['pz_prev'] = 0\n",
    "\n",
    "df_prev_pitch.head()"
   ]
  },
  {
   "cell_type": "code",
   "execution_count": null,
   "metadata": {
    "id": "zeVEGFJgYZDc"
   },
   "outputs": [],
   "source": [
    "# build the function\n",
    "def prev_pitch(df):\n",
    "    for row in df.index:\n",
    "        if df.loc[row, 'pitch_num'] > 1:\n",
    "            df.loc[row, 'pitch_type_prev'] = df.loc[row, 'pitch_type']\n",
    "            df.loc[row, 'px_prev'] = df.loc[row, 'px']\n",
    "            df.loc[row, 'pz_prev'] = df.loc[row, 'pz']\n",
    "            \n",
    "# run the function using the apply() method (WARINING - THIS FUNCTION TAKES A LONG TIME TO RUN)\n",
    "df_prev_pitch = df_prev_pitch.apply(lambda x: prev_pitch(df_prev_pitch), axis=1)"
   ]
  },
  {
   "cell_type": "code",
   "execution_count": null,
   "metadata": {
    "id": "BhvWIU1IYi1E"
   },
   "outputs": [],
   "source": [
    "# get dummy variables\n",
    "df_dummies = pd.get_dummies(df_prev_pitch['pitch_type_prev'], prefix='prev_pitch')\n",
    "\n",
    "# delete the unneeded dummy variables\n",
    "del df_dummies['prev_pitch_0']\n",
    "del df_dummies['prev_pitch_MISSING']\n",
    "\n",
    "# add the dummy variables to the model dataframe\n",
    "df_model = pd.concat([df_model, df_dummies], axis=1)"
   ]
  },
  {
   "cell_type": "code",
   "execution_count": null,
   "metadata": {
    "id": "HJgrpQhiYlNv"
   },
   "outputs": [],
   "source": [
    "# replace the missing and zero values with NaNs\n",
    "df_prev_pitch['px_prev'] = df_prev_pitch['px_prev'].replace(0.000000, np.nan)\n",
    "df_prev_pitch['px_prev'] = df_prev_pitch['px_prev'].replace(0.006600, np.nan)\n",
    "\n",
    "# create dataframe of only outlier values and use that dataframe index to iterate and convert values in df_prev_pitch\n",
    "df_outlier = df_prev_pitch[df_prev_pitch['px_prev'] > 4]\n",
    "for row in df_outlier.index:\n",
    "    df_prev_pitch.loc[row, 'px_prev'] = 4\n",
    "\n",
    "df_outlier = df_prev_pitch[df_prev_pitch['px_prev'] < -4]\n",
    "for row in df_outlier.index:\n",
    "    df_prev_pitch.loc[row, 'px_prev'] = -4\n",
    "\n",
    "# divide px_prev values into 15 bins\n",
    "df_prev_pitch['px_prev'] = pd.cut(df_prev_pitch['px_prev'], 15)\n",
    "\n",
    "# create dummy variables [NOTE - pd.get_dummies automatically drops NaN values]\n",
    "df_dummies = pd.get_dummies(df_prev_pitch['px_prev'], prefix='px_prev')\n",
    "\n",
    "# add dummy variables to model dataframe\n",
    "df_model = pd.concat([df_model, df_dummies], axis=1)"
   ]
  },
  {
   "cell_type": "code",
   "execution_count": null,
   "metadata": {
    "id": "_-oAwofWYpgr"
   },
   "outputs": [],
   "source": [
    "# replace the missing and zero values with NaNs\n",
    "df_prev_pitch['pz_prev'] = df_prev_pitch['pz_prev'].replace(0.000000, np.nan)\n",
    "df_prev_pitch['pz_prev'] = df_prev_pitch['pz_prev'].replace(2.250000, np.nan)\n",
    "\n",
    "# create dataframe of only outlier values and use that dataframe index to iterate and convert values in df_prev_pitch\n",
    "df_outlier = df_prev_pitch[df_prev_pitch['pz_prev'] > 5]\n",
    "for row in df_outlier.index:\n",
    "    df_prev_pitch.loc[row, 'pz_prev'] = 5\n",
    "\n",
    "df_outlier = df_prev_pitch[df_prev_pitch['pz_prev'] < -1]\n",
    "for row in df_outlier.index:\n",
    "    df_prev_pitch.loc[row, 'pz_prev'] = -1\n",
    "\n",
    "# divide pz_prev values into 15 bins\n",
    "df_prev_pitch['pz_prev'] = pd.cut(df_prev_pitch['pz_prev'], 15)\n",
    "\n",
    "# create dummy variables [NOTE - pd.get_dummies automatically drops NaN values]\n",
    "df_dummies = pd.get_dummies(df_prev_pitch['pz_prev'], prefix='pz_prev')\n",
    "\n",
    "# add dummy variables to model dataframe\n",
    "df_model = pd.concat([df_model, df_dummies], axis=1)"
   ]
  },
  {
   "cell_type": "code",
   "execution_count": null,
   "metadata": {
    "id": "PU_LlHx9Yvsu"
   },
   "outputs": [],
   "source": [
    "df_model.head()"
   ]
  },
  {
   "cell_type": "code",
   "execution_count": null,
   "metadata": {},
   "outputs": [],
   "source": [
    "df_model.shape"
   ]
  },
  {
   "cell_type": "code",
   "execution_count": null,
   "metadata": {},
   "outputs": [],
   "source": [
    "# new sample dataframe\n",
    "df_sample = df_model.sample(145000, random_state=6)\n",
    "\n",
    "# verify the fastball/non-fastball split\n",
    "df_sample['fastball'].sum() / len(df_sample)"
   ]
  },
  {
   "cell_type": "code",
   "execution_count": null,
   "metadata": {},
   "outputs": [],
   "source": [
    "# split the dataframe\n",
    "X = df_sample.iloc[:, 2:]\n",
    "y = df_sample.iloc[:, 1]\n",
    "\n",
    "# split the data into train and test sets\n",
    "X_train, X_test, y_train, y_test = train_test_split(X, y, random_state=6, stratify=y)"
   ]
  },
  {
   "cell_type": "code",
   "execution_count": null,
   "metadata": {},
   "outputs": [],
   "source": [
    "lr = LogisticRegression()\n",
    "lr.fit(X_train, y_train)\n",
    "y_pred_lr = lr.predict(X_test)\n",
    "print('Training Set Accuracy: {}'.format(lr.score(X_train, y_train)))\n",
    "print('Test Set Accuracy: {}'.format(lr.score(X_test, y_test)))"
   ]
  },
  {
   "cell_type": "code",
   "execution_count": null,
   "metadata": {},
   "outputs": [],
   "source": [
    "sgdc = SGDClassifier()\n",
    "sgdc.fit(X_train, y_train)\n",
    "y_pred_sgdc = sgdc.predict(X_test)\n",
    "print('Training Set Accuracy: {}'.format(sgdc.score(X_train, y_train)))\n",
    "print('Test Set Accuracy: {}'.format(sgdc.score(X_test, y_test)))"
   ]
  },
  {
   "cell_type": "code",
   "execution_count": null,
   "metadata": {},
   "outputs": [],
   "source": [
    "rfc = RandomForestClassifier()\n",
    "rfc.fit(X_train, y_train)\n",
    "y_pred_rfc = rfc.predict(X_test)\n",
    "print('Training Set Accuracy: {}'.format(rfc.score(X_train, y_train)))\n",
    "print('Test Set Accuracy: {}'.format(rfc.score(X_test, y_test)))"
   ]
  },
  {
   "cell_type": "code",
   "execution_count": null,
   "metadata": {},
   "outputs": [],
   "source": [
    "gbc = GradientBoostingClassifier()\n",
    "gbc.fit(X_train, y_train)\n",
    "y_pred_gbc = gbc.predict(X_test)\n",
    "print('Training Set Accuracy: {}'.format(gbc.score(X_train, y_train)))\n",
    "print('Test Set Accuracy: {}'.format(gbc.score(X_test, y_test)))"
   ]
  },
  {
   "cell_type": "code",
   "execution_count": null,
   "metadata": {},
   "outputs": [],
   "source": [
    "# Classification report Logistic Regression\n",
    "print(classification_report(y_test, y_pred_lr)"
   ]
  },
  {
   "cell_type": "code",
   "execution_count": null,
   "metadata": {},
   "outputs": [],
   "source": [
    "#Confusion Matrix Logistic Regression\n",
    "print(confusion_matrix(y_test, y_pred_lr))"
   ]
  },
  {
   "cell_type": "code",
   "execution_count": null,
   "metadata": {},
   "outputs": [],
   "source": [
    "# Classification report Gradient Boosting\n",
    "from sklearn.metrics import classification_report\n",
    "print(classification_report(y_test, y_pred_gbc))"
   ]
  },
  {
   "cell_type": "code",
   "execution_count": null,
   "metadata": {},
   "outputs": [],
   "source": [
    "# Confusion matrix Gradient Boosting\n",
    "from sklearn.metrics import confusion_matrix\n",
    "print(confusion_matrix(y_test, y_pred_gbc))"
   ]
  },
  {
   "cell_type": "markdown",
   "metadata": {},
   "source": [
    "# FEATURE IMPORTANCE"
   ]
  },
  {
   "cell_type": "code",
   "execution_count": null,
   "metadata": {},
   "outputs": [],
   "source": [
    "df_features = pd.DataFrame(\n",
    "    {'coefficient': lr.coef_.flatten(), 'gbc_feature_importance': gbc.feature_importances_}, \n",
    "    index=df_model.columns[2:])"
   ]
  },
  {
   "cell_type": "code",
   "execution_count": null,
   "metadata": {},
   "outputs": [],
   "source": [
    "#top features\n",
    "df_features.sort_values('gbc_feature_importance', ascending=False)[:15]"
   ]
  },
  {
   "cell_type": "code",
   "execution_count": null,
   "metadata": {},
   "outputs": [],
   "source": [
    "#Least important features\n",
    "df_features.sort_values('coefficient')[:15]"
   ]
  },
  {
   "cell_type": "code",
   "execution_count": null,
   "metadata": {},
   "outputs": [],
   "source": []
  }
 ],
 "metadata": {
  "accelerator": "GPU",
  "colab": {
   "name": "Untitled.ipynb",
   "provenance": [],
   "toc_visible": true
  },
  "kernelspec": {
   "display_name": "Python 3",
   "language": "python",
   "name": "python3"
  },
  "language_info": {
   "codemirror_mode": {
    "name": "ipython",
    "version": 3
   },
   "file_extension": ".py",
   "mimetype": "text/x-python",
   "name": "python",
   "nbconvert_exporter": "python",
   "pygments_lexer": "ipython3",
   "version": "3.8.5"
  }
 },
 "nbformat": 4,
 "nbformat_minor": 1
}
